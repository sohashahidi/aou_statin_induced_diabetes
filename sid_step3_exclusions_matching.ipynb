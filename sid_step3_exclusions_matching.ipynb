{
 "cells": [
  {
   "cell_type": "markdown",
   "metadata": {},
   "source": [
    "# SID Genetics Study Step 3: Exclusions and Matching\n",
    "\n",
    "## Objective\n",
    "The purpose of this notebook is to create the final statin-induced diabetes (SID) phenotype by excluding participants with missing data, type 1 diabetes (T1D), and no short-read whole genome sequence (srWGS) data. Statin users are then matched to 2 non-users based on a combination of exact, threshold, and propensity score matching, and any participants who are not matched are excluded as well."
   ]
  },
  {
   "cell_type": "markdown",
   "metadata": {},
   "source": [
    "# Pull in Data"
   ]
  },
  {
   "cell_type": "markdown",
   "metadata": {},
   "source": [
    "**Objective**: The purpose of this section is to load packages and pull in data from the All of Us Research Project (AoURP). AoURP dataset code (R and SQL) is generated using the AoURP's cohort builder."
   ]
  },
  {
   "cell_type": "code",
   "execution_count": null,
   "metadata": {
    "vscode": {
     "languageId": "r"
    }
   },
   "outputs": [],
   "source": [
    "# Load necessary packages\n",
    "\n",
    "# install.packages(\"allofus\")\n",
    "# install.packages(\"tidyverse\")\n",
    "# install.packages(\"stats\")\n",
    "# install.packages(\"ggplot2\")\n",
    "# install.packages(\"cowplot\")\n",
    "# install.packages(\"tableone\")\n",
    "# install.packages(\"DiagrammeR\")\n",
    "\n",
    "\n",
    "library(allofus)\n",
    "library(tidyverse)\n",
    "library(stats)\n",
    "library(ggplot2)\n",
    "library(cowplot)\n",
    "library(tableone)\n",
    "library(DiagrammeR)\n",
    "\n",
    "my_bucket <- Sys.getenv('WORKSPACE_BUCKET')"
   ]
  },
  {
   "cell_type": "code",
   "execution_count": null,
   "metadata": {
    "code_folding": [],
    "vscode": {
     "languageId": "r"
    }
   },
   "outputs": [],
   "source": [
    "# Pull in covariate data frames\n",
    "system(paste0(\"gsutil cp \", my_bucket, \"/sid_pheno_files/\", \"statin_user_covs_df_v2.csv\", \" .\"), intern=T)\n",
    "statin_user_covs_df <- read.csv(\"statin_user_covs_df_v2.csv\")\n",
    "\n",
    "dim(statin_user_covs_df)\n",
    "\n",
    "system(paste0(\"gsutil cp \", my_bucket, \"/sid_pheno_files/\", \"non_users_covs_df_v2.csv\", \" .\"), intern=T)\n",
    "non_user_covs_df <- read.csv(\"non_users_covs_df_v2.csv\")\n",
    "\n",
    "dim(non_user_covs_df)"
   ]
  },
  {
   "cell_type": "code",
   "execution_count": null,
   "metadata": {
    "code_folding": [],
    "vscode": {
     "languageId": "r"
    }
   },
   "outputs": [],
   "source": [
    "# Pull in T1D data\n",
    "\n",
    "library(tidyverse)\n",
    "library(bigrquery)\n",
    "\n",
    "# This query represents dataset \"T1D ICD Codes\" for domain \"condition\" and was generated for All of Us Controlled Tier Dataset v7\n",
    "dataset_81335991_condition_sql <- paste(\"\n",
    "    SELECT\n",
    "        c_occurrence.person_id,\n",
    "        c_occurrence.condition_concept_id,\n",
    "        c_standard_concept.concept_name as standard_concept_name,\n",
    "        c_occurrence.condition_start_datetime,\n",
    "        c_occurrence.condition_source_value \n",
    "    FROM\n",
    "        ( SELECT\n",
    "            * \n",
    "        FROM\n",
    "            `condition_occurrence` c_occurrence \n",
    "        WHERE\n",
    "            (\n",
    "                condition_source_concept_id IN (SELECT\n",
    "                    DISTINCT c.concept_id \n",
    "                FROM\n",
    "                    `cb_criteria` c \n",
    "                JOIN\n",
    "                    (SELECT\n",
    "                        CAST(cr.id as string) AS id       \n",
    "                    FROM\n",
    "                        `cb_criteria` cr       \n",
    "                    WHERE\n",
    "                        concept_id IN (35206878, 35206879, 44819501, 44819502, 44819504, 44820682, 44820683, 44820684, 44821787, 44822934, 44822935, 44822936, 44824071, 44825264, 44829881, 44831046, 44832190, 44832191, 44832192, 44833368, 44834549, 44836918, 45533018, 45537960, 45542736, 45547622, 45547623, 45547624, 45552379, 45552381, 45552382, 45552383, 45557110, 45566729, 45576438, 45581350, 45600636, 45600637, 45600638, 45600639, 45600640, 45605398)       \n",
    "                        AND full_text LIKE '%_rank1]%'      ) a \n",
    "                        ON (c.path LIKE CONCAT('%.', a.id, '.%') \n",
    "                        OR c.path LIKE CONCAT('%.', a.id) \n",
    "                        OR c.path LIKE CONCAT(a.id, '.%') \n",
    "                        OR c.path = a.id) \n",
    "                WHERE\n",
    "                    is_standard = 0 \n",
    "                    AND is_selectable = 1)\n",
    "            )) c_occurrence \n",
    "    LEFT JOIN\n",
    "        `concept` c_standard_concept \n",
    "            ON c_occurrence.condition_concept_id = c_standard_concept.concept_id\", sep=\"\")\n",
    "\n",
    "# Formulate a Cloud Storage destination path for the data exported from BigQuery.\n",
    "# NOTE: By default data exported multiple times on the same day will overwrite older copies.\n",
    "#       But data exported on a different days will write to a new location so that historical\n",
    "#       copies can be kept as the dataset definition is changed.\n",
    "condition_81335991_path <- file.path(\n",
    "  Sys.getenv(\"WORKSPACE_BUCKET\"),\n",
    "  \"bq_exports\",\n",
    "  Sys.getenv(\"OWNER_EMAIL\"),\n",
    "  strftime(lubridate::now(), \"%Y%m%d\"),  # Comment out this line if you want the export to always overwrite.\n",
    "  \"condition_81335991\",\n",
    "  \"condition_81335991_*.csv\")\n",
    "message(str_glue('The data will be written to {condition_81335991_path}. Use this path when reading ',\n",
    "                 'the data into your notebooks in the future.'))\n",
    "\n",
    "# Perform the query and export the dataset to Cloud Storage as CSV files.\n",
    "# NOTE: You only need to run `bq_table_save` once. After that, you can\n",
    "#       just read data from the CSVs in Cloud Storage.\n",
    "bq_table_save(\n",
    "  bq_dataset_query(Sys.getenv(\"WORKSPACE_CDR\"), dataset_81335991_condition_sql, billing = Sys.getenv(\"GOOGLE_PROJECT\")),\n",
    "  condition_81335991_path,\n",
    "  destination_format = \"CSV\")\n",
    "\n",
    "\n",
    "# Read the data directly from Cloud Storage into memory.\n",
    "# NOTE: Alternatively you can `gsutil -m cp {condition_81335991_path}` to copy these files\n",
    "#       to the Jupyter disk.\n",
    "read_bq_export_from_workspace_bucket <- function(export_path) {\n",
    "  col_types <- cols(standard_concept_name = col_character(), condition_source_value = col_character())\n",
    "  bind_rows(\n",
    "    map(system2('gsutil', args = c('ls', export_path), stdout = TRUE, stderr = TRUE),\n",
    "        function(csv) {\n",
    "          message(str_glue('Loading {csv}.'))\n",
    "          chunk <- read_csv(pipe(str_glue('gsutil cat {csv}')), col_types = col_types, show_col_types = FALSE)\n",
    "          if (is.null(col_types)) {\n",
    "            col_types <- spec(chunk)\n",
    "          }\n",
    "          chunk\n",
    "        }))\n",
    "}\n",
    "dataset_81335991_condition_df <- read_bq_export_from_workspace_bucket(condition_81335991_path)\n",
    "\n",
    "dim(dataset_81335991_condition_df)\n",
    "\n",
    "# head(dataset_81335991_condition_df, 5)"
   ]
  },
  {
   "cell_type": "code",
   "execution_count": null,
   "metadata": {
    "code_folding": [],
    "vscode": {
     "languageId": "r"
    }
   },
   "outputs": [],
   "source": [
    "# Pull in LDL data\n",
    "\n",
    "library(tidyverse)\n",
    "library(bigrquery)\n",
    "\n",
    "# This query represents dataset \"LDLC\" for domain \"measurement\" and was generated for All of Us Controlled Tier Dataset v8\n",
    "dataset_97827399_measurement_sql <- paste(\"\n",
    "    SELECT\n",
    "        measurement.person_id,\n",
    "        measurement.measurement_concept_id,\n",
    "        m_standard_concept.concept_name as standard_concept_name,\n",
    "        measurement.measurement_datetime,\n",
    "        measurement.value_as_number,\n",
    "        m_unit.concept_name as unit_concept_name,\n",
    "        measurement.unit_source_value \n",
    "    FROM\n",
    "        ( SELECT\n",
    "            * \n",
    "        FROM\n",
    "            `measurement` measurement \n",
    "        WHERE\n",
    "            (\n",
    "                measurement_concept_id IN (SELECT\n",
    "                    DISTINCT c.concept_id \n",
    "                FROM\n",
    "                    `cb_criteria` c \n",
    "                JOIN\n",
    "                    (SELECT\n",
    "                        CAST(cr.id as string) AS id       \n",
    "                    FROM\n",
    "                        `cb_criteria` cr       \n",
    "                    WHERE\n",
    "                        concept_id IN (3009966, 3028288, 3028437, 3053341, 40795800)       \n",
    "                        AND full_text LIKE '%_rank1]%'      ) a \n",
    "                        ON (c.path LIKE CONCAT('%.', a.id, '.%') \n",
    "                        OR c.path LIKE CONCAT('%.', a.id) \n",
    "                        OR c.path LIKE CONCAT(a.id, '.%') \n",
    "                        OR c.path = a.id) \n",
    "                WHERE\n",
    "                    is_standard = 1 \n",
    "                    AND is_selectable = 1)\n",
    "            )) measurement \n",
    "    LEFT JOIN\n",
    "        `concept` m_standard_concept \n",
    "            ON measurement.measurement_concept_id = m_standard_concept.concept_id \n",
    "    LEFT JOIN\n",
    "        `concept` m_unit \n",
    "            ON measurement.unit_concept_id = m_unit.concept_id\", sep=\"\")\n",
    "\n",
    "# Formulate a Cloud Storage destination path for the data exported from BigQuery.\n",
    "# NOTE: By default data exported multiple times on the same day will overwrite older copies.\n",
    "#       But data exported on a different days will write to a new location so that historical\n",
    "#       copies can be kept as the dataset definition is changed.\n",
    "measurement_97827399_path <- file.path(\n",
    "  Sys.getenv(\"WORKSPACE_BUCKET\"),\n",
    "  \"bq_exports\",\n",
    "  Sys.getenv(\"OWNER_EMAIL\"),\n",
    "  strftime(lubridate::now(), \"%Y%m%d\"),  # Comment out this line if you want the export to always overwrite.\n",
    "  \"measurement_97827399\",\n",
    "  \"measurement_97827399_*.csv\")\n",
    "message(str_glue('The data will be written to {measurement_97827399_path}. Use this path when reading ',\n",
    "                 'the data into your notebooks in the future.'))\n",
    "\n",
    "# Perform the query and export the dataset to Cloud Storage as CSV files.\n",
    "# NOTE: You only need to run `bq_table_save` once. After that, you can\n",
    "#       just read data from the CSVs in Cloud Storage.\n",
    "bq_table_save(\n",
    "  bq_dataset_query(Sys.getenv(\"WORKSPACE_CDR\"), dataset_97827399_measurement_sql, billing = Sys.getenv(\"GOOGLE_PROJECT\")),\n",
    "  measurement_97827399_path,\n",
    "  destination_format = \"CSV\")\n",
    "\n",
    "\n",
    "# Read the data directly from Cloud Storage into memory.\n",
    "# NOTE: Alternatively you can `gsutil -m cp {measurement_97827399_path}` to copy these files\n",
    "#       to the Jupyter disk.\n",
    "read_bq_export_from_workspace_bucket <- function(export_path) {\n",
    "  col_types <- cols(standard_concept_name = col_character(), unit_concept_name = col_character(), unit_source_value = col_character())\n",
    "  bind_rows(\n",
    "    map(system2('gsutil', args = c('ls', export_path), stdout = TRUE, stderr = TRUE),\n",
    "        function(csv) {\n",
    "          message(str_glue('Loading {csv}.'))\n",
    "          chunk <- read_csv(pipe(str_glue('gsutil cat {csv}')), col_types = col_types, show_col_types = FALSE)\n",
    "          if (is.null(col_types)) {\n",
    "            col_types <- spec(chunk)\n",
    "          }\n",
    "          chunk\n",
    "        }))\n",
    "}\n",
    "dataset_97827399_measurement_df <- read_bq_export_from_workspace_bucket(measurement_97827399_path)\n",
    "\n",
    "dim(dataset_97827399_measurement_df)\n",
    "\n",
    "# head(dataset_97827399_measurement_df, 5)"
   ]
  },
  {
   "cell_type": "code",
   "execution_count": null,
   "metadata": {
    "code_folding": [],
    "vscode": {
     "languageId": "r"
    }
   },
   "outputs": [],
   "source": [
    "# Pull in statin prescription data\n",
    "system(paste0(\"gsutil cp \", my_bucket, \"/sid_pheno_files/\", \"statin_rx_df_v2_rx.csv\", \" .\"), intern=T)\n",
    "statin_rx_df_itt <- read.csv(\"statin_rx_df_v2_rx.csv\")"
   ]
  },
  {
   "cell_type": "code",
   "execution_count": null,
   "metadata": {
    "scrolled": true,
    "vscode": {
     "languageId": "r"
    }
   },
   "outputs": [],
   "source": [
    "# Participans with genomic data\n",
    "\n",
    "library(tidyverse)\n",
    "library(bigrquery)\n",
    "\n",
    "# This query represents dataset \"SRWGS IDs\" for domain \"person\" and was generated for All of Us Controlled Tier Dataset v8\n",
    "dataset_91464632_person_sql <- paste(\"\n",
    "    SELECT\n",
    "        person.person_id \n",
    "    FROM\n",
    "        `person` person   \n",
    "    WHERE\n",
    "        person.PERSON_ID IN (SELECT\n",
    "            distinct person_id  \n",
    "        FROM\n",
    "            `cb_search_person` cb_search_person  \n",
    "        WHERE\n",
    "            cb_search_person.person_id IN (SELECT\n",
    "                person_id \n",
    "            FROM\n",
    "                `cb_search_person` p \n",
    "            WHERE\n",
    "                has_whole_genome_variant = 1 ) )\", sep=\"\")\n",
    "\n",
    "# Formulate a Cloud Storage destination path for the data exported from BigQuery.\n",
    "# NOTE: By default data exported multiple times on the same day will overwrite older copies.\n",
    "#       But data exported on a different days will write to a new location so that historical\n",
    "#       copies can be kept as the dataset definition is changed.\n",
    "person_91464632_path <- file.path(\n",
    "  Sys.getenv(\"WORKSPACE_BUCKET\"),\n",
    "  \"bq_exports\",\n",
    "  Sys.getenv(\"OWNER_EMAIL\"),\n",
    "  strftime(lubridate::now(), \"%Y%m%d\"),  # Comment out this line if you want the export to always overwrite.\n",
    "  \"person_91464632\",\n",
    "  \"person_91464632_*.csv\")\n",
    "message(str_glue('The data will be written to {person_91464632_path}. Use this path when reading ',\n",
    "                 'the data into your notebooks in the future.'))\n",
    "\n",
    "# Perform the query and export the dataset to Cloud Storage as CSV files.\n",
    "# NOTE: You only need to run `bq_table_save` once. After that, you can\n",
    "#       just read data from the CSVs in Cloud Storage.\n",
    "bq_table_save(\n",
    "  bq_dataset_query(Sys.getenv(\"WORKSPACE_CDR\"), dataset_91464632_person_sql, billing = Sys.getenv(\"GOOGLE_PROJECT\")),\n",
    "  person_91464632_path,\n",
    "  destination_format = \"CSV\")\n",
    "\n",
    "\n",
    "# Read the data directly from Cloud Storage into memory.\n",
    "# NOTE: Alternatively you can `gsutil -m cp {person_91464632_path}` to copy these files\n",
    "#       to the Jupyter disk.\n",
    "read_bq_export_from_workspace_bucket <- function(export_path) {\n",
    "  col_types <- NULL\n",
    "  bind_rows(\n",
    "    map(system2('gsutil', args = c('ls', export_path), stdout = TRUE, stderr = TRUE),\n",
    "        function(csv) {\n",
    "          message(str_glue('Loading {csv}.'))\n",
    "          chunk <- read_csv(pipe(str_glue('gsutil cat {csv}')), col_types = col_types, show_col_types = FALSE)\n",
    "          if (is.null(col_types)) {\n",
    "            col_types <- spec(chunk)\n",
    "          }\n",
    "          chunk\n",
    "        }))\n",
    "}\n",
    "dataset_91464632_person_df <- read_bq_export_from_workspace_bucket(person_91464632_path)\n",
    "\n",
    "dim(dataset_91464632_person_df)\n",
    "\n",
    "# head(dataset_91464632_person_df, 5)"
   ]
  },
  {
   "cell_type": "code",
   "execution_count": null,
   "metadata": {
    "vscode": {
     "languageId": "r"
    }
   },
   "outputs": [],
   "source": [
    "# Prep genetic ancestry PCs\n",
    "library(dplyr)\n",
    "library(tidyr)\n",
    "library(stringr)\n",
    "\n",
    "# Pull in ancestry PCs\n",
    "system(paste0(\"gsutil -u ${GOOGLE_PROJECT} cp \", \"gs://fc-aou-datasets-controlled/v8/wgs/short_read/snpindel/aux/ancestry/ancestry_preds.tsv\", \" .\"), intern=T)\n",
    "ancestry_pcs <- read.csv(\"ancestry_preds.tsv\", sep = \"\\t\")\n",
    "\n",
    "# head(ancestry_pcs, 5)\n",
    "\n",
    "# Convert pca_features column from string to numeric and separate into individual columns\n",
    "ancestry_pcs <- ancestry_pcs %>%\n",
    "                  mutate(pca_features = str_replace_all(pca_features, \"\\\\[|\\\\]\", \"\")) %>%\n",
    "                  separate(pca_features, into = paste0(\"PC\", 1:16), sep = \", \", convert = TRUE) %>%\n",
    "                  rename(person_id = research_id) %>%\n",
    "                  select(person_id, starts_with(\"PC\"))\n",
    "\n",
    "# head(ancestry_pcs, 5)"
   ]
  },
  {
   "cell_type": "markdown",
   "metadata": {},
   "source": [
    "# Exclusions"
   ]
  },
  {
   "cell_type": "markdown",
   "metadata": {},
   "source": [
    "**Objective**: The purpose of this section is to exclude participants with missing data, type 1 diabetes (T1D), and no short-read whole genome sequence (srWGS) data."
   ]
  },
  {
   "cell_type": "code",
   "execution_count": null,
   "metadata": {
    "vscode": {
     "languageId": "r"
    }
   },
   "outputs": [],
   "source": [
    "# Create NAs for unanswered demo characteristics and filter\n",
    "# For statin users\n",
    "statin_user_covs_df_filtered <- statin_user_covs_df %>% \n",
    "                                mutate(sex_at_birth = ifelse(sex_at_birth == \"I prefer not to answer\" |\n",
    "                                                            sex_at_birth == \"No matching concept\" |\n",
    "                                                            sex_at_birth == \"None\" |\n",
    "                                                            sex_at_birth == \"PMI: Skip\", NA, sex_at_birth),\n",
    "                                        race = ifelse(race == \"I prefer not to answer\" |\n",
    "                                                     race == \"None Indicated\" | \n",
    "                                                     race == \"None of these\" |\n",
    "                                                     race == \"PMI: Skip\", NA, race),\n",
    "                                        ethnicity = ifelse(ethnicity == \"PMI: Prefer Not To Answer\" |\n",
    "                                                         ethnicity == \"PMI: Skip\" |\n",
    "                                                         ethnicity == \"What Race Ethnicity: Race Ethnicity None Of These\", NA, ethnicity)) %>%\n",
    "                                filter(!is.na(sex_at_birth)) %>%\n",
    "                                filter(!(is.na(race) & is.na(ethnicity)))\n",
    "\n",
    "length(unique(statin_user_covs_df_filtered$person_id))\n",
    "dim(statin_user_covs_df_filtered)\n",
    "# head(statin_user_covs_df_filtered)\n",
    "\n",
    "# For non-users\n",
    "non_user_covs_df_filtered <- non_user_covs_df %>% \n",
    "                                mutate(sex_at_birth = ifelse(sex_at_birth == \"I prefer not to answer\" |\n",
    "                                                            sex_at_birth == \"No matching concept\" |\n",
    "                                                            sex_at_birth == \"None\" |\n",
    "                                                            sex_at_birth == \"PMI: Skip\", NA, sex_at_birth),\n",
    "                                        race = ifelse(race == \"I prefer not to answer\" |\n",
    "                                                     race == \"None Indicated\" | \n",
    "                                                     race == \"None of these\" |\n",
    "                                                     race == \"PMI: Skip\", NA, race),\n",
    "                                        ethnicity = ifelse(ethnicity == \"PMI: Prefer Not To Answer\" |\n",
    "                                                         ethnicity == \"PMI: Skip\" |\n",
    "                                                         ethnicity == \"What Race Ethnicity: Race Ethnicity None Of These\", NA, ethnicity)) %>%\n",
    "                                filter(!is.na(sex_at_birth)) %>%\n",
    "                                filter(!(is.na(race) & is.na(ethnicity)))\n",
    "\n",
    "length(unique(non_user_covs_df_filtered$person_id))\n",
    "dim(non_user_covs_df_filtered)\n",
    "# head(non_user_covs_df_filtered)"
   ]
  },
  {
   "cell_type": "code",
   "execution_count": null,
   "metadata": {
    "scrolled": true,
    "vscode": {
     "languageId": "r"
    }
   },
   "outputs": [],
   "source": [
    "# Filtering out participants with T1D\n",
    "# Statin users\n",
    "statin_user_covs_df_filtered_2 <- statin_user_covs_df_filtered[!statin_user_covs_df_filtered$person_id %in% dataset_81335991_condition_df$person_id,] %>%\n",
    "                                    rename(high_tg = tg_over_150,\n",
    "                                           high_bmi = bmi_over_25) %>% \n",
    "                                    mutate(sex_at_birth = ifelse(is.na(sex_at_birth), \"Other\", sex_at_birth),\n",
    "                                            race = ifelse(is.na(race), \"Other\", race),\n",
    "                                            ethnicity = ifelse(is.na(ethnicity), \"Other\", ethnicity)) \n",
    "\n",
    "print(\"Statin Users\")\n",
    "length(unique(statin_user_covs_df_filtered_2$person_id))\n",
    "dim(statin_user_covs_df_filtered_2)\n",
    "# head(statin_user_covs_df_filtered_2)\n",
    "\n",
    "# Statin non-users\n",
    "non_user_covs_df_filtered_2 <- non_user_covs_df_filtered[!non_user_covs_df_filtered$person_id %in% dataset_81335991_condition_df$person_id,] %>% \n",
    "                                mutate(sex_at_birth = ifelse(is.na(sex_at_birth), \"Other\", sex_at_birth),\n",
    "                                        race = ifelse(is.na(race), \"Other\", race),\n",
    "                                        ethnicity = ifelse(is.na(ethnicity), \"Other\", ethnicity))\n",
    "\n",
    "print(\"Statin Non-users\")\n",
    "length(unique(non_user_covs_df_filtered_2$person_id))\n",
    "dim(non_user_covs_df_filtered_2)\n",
    "# head(non_user_covs_df_filtered_2)"
   ]
  },
  {
   "cell_type": "code",
   "execution_count": null,
   "metadata": {
    "vscode": {
     "languageId": "r"
    }
   },
   "outputs": [],
   "source": [
    "# Filtering out participants with NA covariates\n",
    "# Statin users\n",
    "statin_user_covs_df_filtered_3 <- statin_user_covs_df_filtered_2 %>%\n",
    "                                    drop_na(low_hdl, high_tg, high_bmi, smoking_status, htn_status, pd_status, gd_status)\n",
    "\n",
    "print(\"Statin Users\")\n",
    "length(unique(statin_user_covs_df_filtered_3$person_id))\n",
    "dim(statin_user_covs_df_filtered_3)\n",
    "# head(statin_user_covs_df_filtered_3)\n",
    "\n",
    "# Statin non-users\n",
    "non_user_covs_df_filtered_3 <- non_user_covs_df_filtered_2 %>%\n",
    "                                    drop_na(low_hdl, high_tg, high_bmi, smoking_status, htn_status, pd_status, gd_status)\n",
    "\n",
    "print(\"Non-users\")\n",
    "length(unique(non_user_covs_df_filtered_3$person_id))\n",
    "dim(non_user_covs_df_filtered_3)\n",
    "# head(non_user_covs_df_filtered_3)"
   ]
  },
  {
   "cell_type": "code",
   "execution_count": null,
   "metadata": {
    "vscode": {
     "languageId": "r"
    }
   },
   "outputs": [],
   "source": [
    "# Filtering out participants without genomic data\n",
    "# Statin users\n",
    "statin_user_covs_df_filtered_4 <- statin_user_covs_df_filtered_3 %>%\n",
    "                                    filter(person_id %in% dataset_91464632_person_df$person_id)\n",
    "\n",
    "print(\"Statin Users\")\n",
    "length(unique(statin_user_covs_df_filtered_4$person_id))\n",
    "dim(statin_user_covs_df_filtered_4)\n",
    "# head(statin_user_covs_df_filtered_4)\n",
    "\n",
    "# Statin non-users\n",
    "non_user_covs_df_filtered_4 <- non_user_covs_df_filtered_3 %>%\n",
    "                                    filter(person_id %in% dataset_91464632_person_df$person_id)\n",
    "\n",
    "print(\"Non-users\")\n",
    "length(unique(non_user_covs_df_filtered_4$person_id))\n",
    "dim(non_user_covs_df_filtered_4)\n",
    "# head(non_user_covs_df_filtered_4)"
   ]
  },
  {
   "cell_type": "markdown",
   "metadata": {},
   "source": [
    "# Merging Statin Users and Non-users"
   ]
  },
  {
   "cell_type": "markdown",
   "metadata": {},
   "source": [
    "**Objective**: The purpose of this section is to harmonize the statin user and non-user data frames so they can be merged successfully."
   ]
  },
  {
   "cell_type": "code",
   "execution_count": null,
   "metadata": {
    "vscode": {
     "languageId": "r"
    }
   },
   "outputs": [],
   "source": [
    "# Calculate index ages for non-users\n",
    "non_user_covs_df_filtered_4$index_age <- round(as.numeric(difftime(as.Date(non_user_covs_df_filtered_4$t2d_measurement_index_date),\n",
    "                                                  as.Date(non_user_covs_df_filtered_4$date_of_birth),\n",
    "                                                  units = \"days\")/365.2425), digits = 1)\n",
    "\n",
    "# Create a new column for treatment group in each data frame\n",
    "non_user_covs_df_filtered_4$group <- \"non-user\"\n",
    "# head(non_user_covs_df_filtered_4)\n",
    "\n",
    "statin_user_covs_df_filtered_4$group <- \"user\"\n",
    "# head(statin_user_covs_df_filtered_4)"
   ]
  },
  {
   "cell_type": "code",
   "execution_count": null,
   "metadata": {
    "vscode": {
     "languageId": "r"
    }
   },
   "outputs": [],
   "source": [
    "# Merge statin and non-user data frames\n",
    "\n",
    "# Prep data frames for merging by harmonizing columns\n",
    "non_user_covs_df_merging <- non_user_covs_df_filtered_4 %>% \n",
    "                                select(person_id, t2d_status, eof_age, eof_date,\n",
    "                                       sex_at_birth, race, ethnicity, \n",
    "                                       low_hdl, high_tg, high_bmi, pd_status, \n",
    "                                       smoking_status, htn_status, gd_status, \n",
    "                                       index_age, group, t2d_measurement_concept_id, \n",
    "                                       t2d_value_as_number, t2d_measurement_index_date, index_id) %>%\n",
    "                                rename(index_date = t2d_measurement_index_date)\n",
    "\n",
    "statin_user_covs_df_merging <- statin_user_covs_df_filtered_4 %>% rename(index_age = statin_init_age) %>% \n",
    "                            mutate(person_id = as.integer(person_id)) %>%\n",
    "                            select(person_id, t2d_status, eof_age, eof_datetime,\n",
    "                                   statin_init_date, statin_type_start, statin_dose_start, \n",
    "                                   statin_end_date, statin_type_end, statin_dose_end,\n",
    "                                   sex_at_birth, race, ethnicity, low_hdl, high_tg, high_bmi, \n",
    "                                   pd_status, smoking_status, htn_status, gd_status, index_age, group) %>%\n",
    "                            rename(index_date = statin_init_date,\n",
    "                                      eof_date = eof_datetime)\n",
    "# Merge final data frames\n",
    "covs_df_merged <- full_join(non_user_covs_df_merging, statin_user_covs_df_merging)\n",
    "\n",
    "# Change categorical variables ot factors for propensity score calculation\n",
    "covs_df_merged$group <- as.factor(covs_df_merged$group)\n",
    "binary_cols <- c(\"low_hdl\", \"high_tg\", \"high_bmi\", \"pd_status\", \"smoking_status\", \"htn_status\", \"gd_status\")\n",
    "covs_df_merged[binary_cols] <- lapply(covs_df_merged[binary_cols], as.factor)\n",
    "\n",
    "# Create population and time variables\n",
    "covs_df_merged <- covs_df_merged %>%\n",
    "                mutate(population = ifelse(ethnicity == \"Hispanic or Latino\" & race == \"Other\",\n",
    "                                                         \"Hispanic or Latino\", as.character(race))) %>%\n",
    "                mutate(time = as.numeric(difftime(as.Date(eof_date), as.Date(index_date)))/365.2425)"
   ]
  },
  {
   "cell_type": "code",
   "execution_count": null,
   "metadata": {
    "vscode": {
     "languageId": "r"
    }
   },
   "outputs": [],
   "source": [
    "# Check merged df\n",
    "length(unique(covs_df_merged$person_id))\n",
    "dim(covs_df_merged)\n",
    "# head(covs_df_merged)"
   ]
  },
  {
   "cell_type": "markdown",
   "metadata": {},
   "source": [
    "# Matching"
   ]
  },
  {
   "cell_type": "markdown",
   "metadata": {},
   "source": [
    "**Objective**: The purpose of this section is to use exact, threshold, and propensity score matching to match each statin user to 2 non-users at the most appropriate index dates."
   ]
  },
  {
   "cell_type": "markdown",
   "metadata": {},
   "source": [
    "## **Matching Algorithm**\n",
    "1. Assign each eligible non-user a pool of potential index dates based on the dates of random glucose, fasting glucose, and HbA1c measurement dates\n",
    "2. Determine covariate status at index\n",
    "3. Calculate propensity scores by predicting statin use based on covariates using logistic regression\n",
    "4. Create separate data frames for each combination of demographic characteristics (race, population) to match them exactly\n",
    "5. Split each combination of demographic characteristics back into statin users and non-users \n",
    "6. Arrange statin users from youngest to oldest\n",
    "7. Starting with the youngest statin user, find out which potential non-user indexes:\n",
    "        a. Are within 3 years of the statin user's index age\n",
    "        b. Have a follow-up duration within 6 months\n",
    "        c. Have a propensity score within 0.01\n",
    "8. If there are at least two potential matches, arrange them in order of closest propensity score and choose the closest\n",
    "9. Remove the matched non-user and all their index dates from the potential matching pool\n",
    "10. With the matched non-user removed, refilter for eligible non-users and choose the one with the next closest propensity score\n",
    "11. Add the matched statin user and the two matched non-users to a data frame\n",
    "12. Remove the second matched non-user and their index dates from the potential matching pool\n",
    "13. Repeat with all statin users\n",
    "14. If a statin user is not matched with two non-users, do not include them in the final data frame"
   ]
  },
  {
   "cell_type": "code",
   "execution_count": null,
   "metadata": {
    "vscode": {
     "languageId": "r"
    }
   },
   "outputs": [],
   "source": [
    "# Calculate propensity scores\n",
    "\n",
    "# Model the odds of using statins based on covariates\n",
    "prop_glm <- glm(group ~ sex_at_birth + race + ethnicity + low_hdl + high_tg + high_bmi + smoking_status + \n",
    "                htn_status + pd_status + gd_status,\n",
    "                data = covs_df_merged,\n",
    "                family = 'binomial')\n",
    "summary(prop_glm)\n",
    "\n",
    "# Predict propensity scores based on the model\n",
    "covs_df_merged$propensity_scores <- predict(prop_glm, covs_df_merged, type = \"response\")\n",
    "\n",
    "length(unique(covs_df_merged$person_id))\n",
    "dim(covs_df_merged)\n",
    "# head(covs_df_merged)"
   ]
  },
  {
   "cell_type": "code",
   "execution_count": null,
   "metadata": {
    "vscode": {
     "languageId": "r"
    }
   },
   "outputs": [],
   "source": [
    "# Check propensity scores pre-matching using summary statistics and box plots\n",
    "boxplot(propensity_scores~group, data = covs_df_merged, col = c(\"coral\", \"lightblue\"))\n",
    "covs_df_merged %>% group_by(group) %>% summarise(Count = n(), Mean=mean(propensity_scores), Max=max(propensity_scores), Min=min(propensity_scores), Median=median(propensity_scores), Std=sd(propensity_scores))"
   ]
  },
  {
   "cell_type": "code",
   "execution_count": null,
   "metadata": {
    "vscode": {
     "languageId": "r"
    }
   },
   "outputs": [],
   "source": [
    "# Helper function to create data frames for each sex/population group\n",
    "split_by_demo <- function(data, sex_at_birth, population) {\n",
    "    \n",
    "  # Ensure the specified variables exist in the data\n",
    "  if (!all(c(sex_at_birth, population) %in% names(data))) {\n",
    "    stop(\"One or more specified variables are not in the data frame.\")\n",
    "  }\n",
    "  \n",
    "  # Use split to divide the data by combinations of the three variables\n",
    "  split_data <- split(\n",
    "    data,\n",
    "    data[c(sex_at_birth, population)],\n",
    "    drop = FALSE\n",
    "  )\n",
    "  \n",
    "  return(split_data)\n",
    "}"
   ]
  },
  {
   "cell_type": "code",
   "execution_count": null,
   "metadata": {
    "vscode": {
     "languageId": "r"
    }
   },
   "outputs": [],
   "source": [
    "# Run helper function on merged df\n",
    "merged_df_list <- split_by_demo(covs_df_merged, \"sex_at_birth\", \"population\")"
   ]
  },
  {
   "cell_type": "code",
   "execution_count": null,
   "metadata": {
    "vscode": {
     "languageId": "r"
    }
   },
   "outputs": [],
   "source": [
    "# Function to filter list of data frames\n",
    "filter_data_frames <- function(data_frame_list) {\n",
    "      # Check each data frame to see if there are any rows and return NULL if not\n",
    "      filtered_list <- lapply(data_frame_list, function(df) \n",
    "          {\n",
    "            if (nrow(df %>% filter(group == \"user\")) > 0) {\n",
    "              return(df)\n",
    "            } else {\n",
    "              return(NULL)\n",
    "            }\n",
    "          }\n",
    "                         )\n",
    "      # Remove NULL entries from the list\n",
    "      filtered_list <- filtered_list[!sapply(filtered_list, is.null)]\n",
    "      return(filtered_list)\n",
    "    }"
   ]
  },
  {
   "cell_type": "code",
   "execution_count": null,
   "metadata": {
    "vscode": {
     "languageId": "r"
    }
   },
   "outputs": [],
   "source": [
    "# Run helper function on list of data frames\n",
    "merged_df_filtered_list <- filter_data_frames(merged_df_list)"
   ]
  },
  {
   "cell_type": "code",
   "execution_count": null,
   "metadata": {
    "vscode": {
     "languageId": "r"
    }
   },
   "outputs": [],
   "source": [
    "# Match statin users to 2 non-users\n",
    "\n",
    "# Parameters\n",
    "caliper <- 0.01 # Caliper for propensity score\n",
    "age_diff <- 3  # Maximum age difference for matching\n",
    "time_diff <- 0.5 # Maximum duration difference (years)\n",
    "\n",
    "matched <- data.frame()\n",
    "\n",
    "for (i in names(merged_df_filtered_list)) {\n",
    "    # Arrange participants by index age from youngest to oldest\n",
    "    su_age_order <- merged_df_filtered_list[[i]] %>% filter(group == \"user\") %>% arrange(index_age)\n",
    "    \n",
    "    nu_df <- merged_df_filtered_list[[i]] %>% filter(group == \"non-user\")\n",
    "    \n",
    "\n",
    "    # Matching\n",
    "    for (i in 1:nrow(su_age_order)) {\n",
    "      treated_row <- su_age_order[i, ] %>% mutate(match_group = su_age_order[[i, 'person_id']])\n",
    "\n",
    "      # Filter potential controls based on age difference and caliper\n",
    "      potential_controls <- nu_df %>%\n",
    "                            filter(abs(index_age - treated_row$index_age) <= age_diff,\n",
    "                                   abs(time - treated_row$time) <= time_diff,\n",
    "                                   abs(propensity_scores - treated_row$propensity_scores) <= caliper)\n",
    "\n",
    "      if (nrow(potential_controls) >= 2) {\n",
    "        # Sort by propensity score difference\n",
    "        potential_controls <- potential_controls %>%\n",
    "                              mutate(score_diff = abs(propensity_scores - treated_row$propensity_scores)) %>%\n",
    "                              arrange(score_diff)\n",
    "\n",
    "        # Select the first control and remove it from the pool\n",
    "        first_control <- potential_controls[1, ] %>% mutate(match_group = su_age_order[[i, 'person_id']])\n",
    "        nu_df <- nu_df %>% filter(person_id != first_control$person_id)\n",
    "\n",
    "        # Re-filter potential controls after removing the first control\n",
    "        potential_controls <- nu_df %>%\n",
    "                              filter(abs(index_age - treated_row$index_age) <= age_diff,\n",
    "                                     abs(time - treated_row$time) <= time_diff,\n",
    "                                     abs(propensity_scores - treated_row$propensity_scores) <= caliper) %>%\n",
    "                              mutate(score_diff = abs(propensity_scores - treated_row$propensity_scores)) %>%\n",
    "                              arrange(score_diff)\n",
    "\n",
    "        if (nrow(potential_controls) >= 1) {\n",
    "          # Select the second control\n",
    "          second_control <- potential_controls[1, ] %>% mutate(match_group = su_age_order[[i, 'person_id']])\n",
    "\n",
    "          # Add matches to the matched data frame\n",
    "          matches <- bind_rows(treated_row, first_control, second_control)\n",
    "          matched <- rbind(matched, matches)\n",
    "            \n",
    "          # Remove the second control from the pool\n",
    "          nu_df <- nu_df %>% filter(person_id != second_control$person_id)\n",
    "        }\n",
    "      }\n",
    "    }\n",
    "\n",
    "} "
   ]
  },
  {
   "cell_type": "code",
   "execution_count": null,
   "metadata": {
    "vscode": {
     "languageId": "r"
    }
   },
   "outputs": [],
   "source": [
    "# Check final matched data frame\n",
    "length(unique(matched$person_id))\n",
    "dim(matched)\n",
    "table(matched$group)\n",
    "# head(matched)"
   ]
  },
  {
   "cell_type": "markdown",
   "metadata": {},
   "source": [
    "# Create Main Intention-to-Treat Population"
   ]
  },
  {
   "cell_type": "markdown",
   "metadata": {},
   "source": [
    "**Objective**: The purpose of this section is to create the main study phenotype, which is based on an intention-to-treat (ITT) model. That means that the first statin prescription participants received is assumed to be carried out throughout the study, similar to randomized control trials. Statin users are assigned statin types, statin intensities, and statin lipophilicities based on their first statin prescription."
   ]
  },
  {
   "cell_type": "code",
   "execution_count": null,
   "metadata": {
    "vscode": {
     "languageId": "r"
    }
   },
   "outputs": [],
   "source": [
    "# Helper function to determine statin intensity based on statin type and dosage\n",
    "statin_intensity <- function(statin_type, statin_dose) {\n",
    "    if(statin_type == \"atorvastatin\") {\n",
    "        if(statin_dose == \"40 MG\" | statin_dose == \"80 MG\") {\n",
    "            return(\"high\")\n",
    "        }\n",
    "        \n",
    "        if(statin_dose == \"10 MG\" | statin_dose == \"20 MG\") {\n",
    "            return(\"moderate\")\n",
    "        }\n",
    "    }\n",
    "    \n",
    "    if(statin_type == \"simvastatin\") {\n",
    "        if(statin_dose == \"20 MG\" | statin_dose == \"40 MG\") {\n",
    "            return(\"moderate\")\n",
    "        }\n",
    "        \n",
    "        if(statin_dose == \"10 MG\") {\n",
    "            return(\"low\")\n",
    "        }\n",
    "    }\n",
    "    \n",
    "    if(statin_type == \"fluvastatin\") {\n",
    "        if(statin_dose == \"80 MG\" | statin_dose == \"40 MG\") {\n",
    "            return(\"moderate\")\n",
    "        }\n",
    "        \n",
    "        if(statin_dose == \"20 MG\" | statin_dose == \"40 MG\") {\n",
    "            return(\"low\")\n",
    "        }\n",
    "    }\n",
    "    \n",
    "    if(statin_type == \"pitavastatin\") {\n",
    "        return(\"moderate\")\n",
    "    }\n",
    "    \n",
    "    if(statin_type == \"lovastatin\") {\n",
    "        if(statin_dose == \"80 MG\" | statin_dose == \"40 MG\") {\n",
    "            return(\"moderate\")\n",
    "        }\n",
    "        \n",
    "        if(statin_dose == \"20 MG\") {\n",
    "            return(\"low\")\n",
    "        }\n",
    "    }\n",
    "    \n",
    "    if(statin_type == \"rosuvastatin\") {\n",
    "        if(statin_dose == \"20 MG\" | statin_dose == \"40 MG\") {\n",
    "            return(\"high\")\n",
    "        }\n",
    "        \n",
    "        if(statin_dose == \"5 MG\" | statin_dose == \"10 MG\") {\n",
    "            return(\"moderate\")\n",
    "        }\n",
    "    }\n",
    "    \n",
    "    if(statin_type == \"pravastatin\") {\n",
    "        if(statin_dose == \"40 MG\" | statin_dose == \"80 MG\") {\n",
    "            return(\"moderate\")\n",
    "        }\n",
    "        \n",
    "        if(statin_dose == \"10 MG\" | statin_dose == \"20 MG\") {\n",
    "            return(\"low\")\n",
    "        }\n",
    "    }\n",
    "    \n",
    "    else {return(NA)}\n",
    "}"
   ]
  },
  {
   "cell_type": "code",
   "execution_count": null,
   "metadata": {
    "vscode": {
     "languageId": "r"
    }
   },
   "outputs": [],
   "source": [
    "# Add columns for starting statin type, statin intensity, statin lipophilicity, and numeric T2D status for regression\n",
    "itt_df <- matched %>% \n",
    "            mutate(eof_age = round(eof_age, digits = 1)) %>% \n",
    "            mutate(statin_type_start = ifelse(is.na(statin_type_start) & group == 'non-user', \"non-user\", statin_type_start),\n",
    "                   statin_type_start = factor(statin_type_start, levels = c(\"non-user\", \"lovastatin\", \"rosuvastatin\", \n",
    "                                                                \"simvastatin\", \"atorvastatin\", \"pravastatin\", \n",
    "                                                                \"fluvastatin\", \"pitavastatin\")),\n",
    "                   statin_type_start = relevel(statin_type_start, \"non-user\")) %>%\n",
    "            group_by(person_id) %>%\n",
    "            mutate(statin_intensity_start = ifelse(group == 'non-user', \"non-user\", \n",
    "                                             ifelse(!is.na(statin_dose_start) & !is.na(statin_type_start), \n",
    "                                                    statin_intensity(statin_type_start, statin_dose_start), NA)),\n",
    "                   statin_intensity_start = factor(statin_intensity_start, levels = c(\"non-user\", \"low\", \"moderate\", \"high\")),\n",
    "                   statin_intensity_start = relevel(statin_intensity_start, \"non-user\")) %>% \n",
    "            mutate(statin_lipo_start = ifelse(statin_type_start == \"rosuvastatin\" | statin_type_start == \"pravastatin\",\n",
    "                                        \"hydro\", ifelse(statin_type_start == \"non-user\", \"non-user\", \"lipo\")),\n",
    "                   statin_lipo_start = factor(statin_lipo_start, levels = c(\"non-user\", \"lipo\", \"hydro\")),\n",
    "                   statin_lipo_start = relevel(statin_lipo_start, \"non-user\")) %>%\n",
    "            mutate(status = case_when(t2d_status == \"Event\" ~ 1,\n",
    "                                      t2d_status == \"Censor\" ~ 0)) %>%\n",
    "            mutate(FID = 0,\n",
    "                   IID = person_id) %>% \n",
    "            ungroup()"
   ]
  },
  {
   "cell_type": "code",
   "execution_count": null,
   "metadata": {
    "vscode": {
     "languageId": "r"
    }
   },
   "outputs": [],
   "source": [
    "# Add columns for last statin type, statin intensity, statin lipophilicity, and numeric T2D status for regression\n",
    "itt_df <- itt_df %>% \n",
    "            mutate(eof_age = round(eof_age, digits = 1)) %>% \n",
    "            mutate(statin_type_end = ifelse(is.na(statin_type_end) & group == 'non-user', \"non-user\", statin_type_end),\n",
    "                   statin_type_end = factor(statin_type_end, levels = c(\"non-user\", \"lovastatin\", \"rosuvastatin\", \n",
    "                                                                \"simvastatin\", \"atorvastatin\", \"pravastatin\", \n",
    "                                                                \"fluvastatin\", \"pitavastatin\")),\n",
    "                   statin_type_end = relevel(statin_type_end, \"non-user\")) %>%\n",
    "            group_by(person_id) %>%\n",
    "            mutate(statin_intensity_end = ifelse(group == 'non-user', \"non-user\", \n",
    "                                             ifelse(!is.na(statin_dose_end) & !is.na(statin_type_end), \n",
    "                                                    statin_intensity(statin_type_end, statin_dose_end), NA)),\n",
    "                   statin_intensity_end = factor(statin_intensity_end, levels = c(\"non-user\", \"low\", \"moderate\", \"high\")),\n",
    "                   statin_intensity_end = relevel(statin_intensity_end, \"non-user\")) %>% \n",
    "            mutate(statin_lipo_end = ifelse(statin_type_end == \"rosuvastatin\" | statin_type_end == \"pravastatin\",\n",
    "                                        \"hydro\", ifelse(statin_type_end == \"non-user\", \"non-user\", \"lipo\")),\n",
    "                   statin_lipo_end = factor(statin_lipo_end, levels = c(\"non-user\", \"lipo\", \"hydro\")),\n",
    "                   statin_lipo_end = relevel(statin_lipo_end, \"non-user\"))"
   ]
  },
  {
   "cell_type": "code",
   "execution_count": null,
   "metadata": {
    "vscode": {
     "languageId": "r"
    }
   },
   "outputs": [],
   "source": [
    "# Check intention-to-treat (ITT) data frame\n",
    "length(unique(itt_df$person_id))\n",
    "dim(itt_df)\n",
    "table(itt_df$group)\n",
    "# head(itt_df)"
   ]
  },
  {
   "cell_type": "code",
   "execution_count": null,
   "metadata": {
    "vscode": {
     "languageId": "r"
    }
   },
   "outputs": [],
   "source": [
    "# Define variables for Table 1\n",
    "library(tableone)\n",
    "myVars <- c(\"t2d_status\", \"sex_at_birth\", \"race\", \"ethnicity\", \"low_hdl\", \"high_tg\", \"high_bmi\", \"pd_status\", \n",
    "            \"smoking_status\", \"htn_status\", \"gd_status\", \"index_age\", \"eof_age\", \"group\", \"propensity_scores\", \n",
    "            \"time\", \"statin_type\", \"statin_intensity\", \"statin_lipo\")\n",
    "\n",
    "catVars <- c(\"t2d_status\", \"sex_at_birth\", \"race\", \"ethnicity\", \"low_hdl\", \"high_tg\", \"high_bmi\", \"pd_status\", \n",
    "            \"smoking_status\", \"htn_status\", \"gd_status\", \"group\", \"statin_type\", \"statin_intensity\", \"statin_lipo\")"
   ]
  },
  {
   "cell_type": "code",
   "execution_count": null,
   "metadata": {
    "vscode": {
     "languageId": "r"
    }
   },
   "outputs": [],
   "source": [
    "# Create Table 1 for ITT cohort\n",
    "tab_itt <- CreateTableOne(vars = myVars, strata = \"group\", data = itt_df, factorVars = catVars, test = TRUE)\n",
    "as.data.frame(print(tab_itt, noSpaces = TRUE, printToggle = FALSE))"
   ]
  },
  {
   "cell_type": "code",
   "execution_count": null,
   "metadata": {
    "vscode": {
     "languageId": "r"
    }
   },
   "outputs": [],
   "source": [
    "# Add ancestry PCs and split categorical variables in preparation for genomic analysis\n",
    "itt_df <- left_join(itt_df, ancestry_pcs) %>%\n",
    "            mutate(male = ifelse(sex_at_birth == \"Male\", 1, 0),\n",
    "                   pop_black = ifelse(population == \"Black or African American\", 1, 0),\n",
    "                   pop_lat = ifelse(population == \"Hispanic or Latino\", 1, 0),\n",
    "                   pop_more = ifelse(population == \"More than one population\", 1, 0),\n",
    "                   pop_asian = ifelse(population == \"Asian\", 1, 0),\n",
    "                   pop_aian = ifelse(population == \"American Indian or Alaska Native\", 1, 0),\n",
    "                   pop_mena = ifelse(population == \"Middle Eastern or North African\", 1, 0)) %>%\n",
    "            ungroup()\n",
    "\n",
    "# Check df\n",
    "length(unique(itt_df$person_id))\n",
    "dim(itt_df)\n",
    "# head(itt_df)"
   ]
  },
  {
   "cell_type": "code",
   "execution_count": null,
   "metadata": {
    "vscode": {
     "languageId": "r"
    }
   },
   "outputs": [],
   "source": [
    "# Save data frame\n",
    "write.csv(itt_df, \"itt_df_v2.csv\")\n",
    "system(paste0(\"gsutil cp ./\", \"itt_df_v2.csv\", \" \", my_bucket, \"/sid_pheno_files/\"), intern=T)"
   ]
  },
  {
   "cell_type": "code",
   "execution_count": null,
   "metadata": {
    "vscode": {
     "languageId": "r"
    }
   },
   "outputs": [],
   "source": [
    "# Save genomic analysis versions of the data - statin users\n",
    "\n",
    "# Regenie phenotype file\n",
    "itt_statin_pheno_df <- itt_df %>%\n",
    "                            filter(group == \"user\") %>%\n",
    "                            select(FID, IID, status, time)\n",
    "\n",
    "write.table(itt_statin_pheno_df, \"itt_statin_pheno_df.tsv\", row.names = FALSE, sep = \"\\t\", quote = FALSE, na = \"NA\")\n",
    "system(paste0(\"gsutil cp ./\", \"itt_statin_pheno_df.tsv\", \" \", my_bucket, \"/sid_pheno_files/genomic/\"), intern=T)\n",
    "\n",
    "# Regenie covariate file\n",
    "itt_statin_covs_df <- itt_df %>% \n",
    "                            filter(group == \"user\") %>%\n",
    "                            select(FID, IID, low_hdl, high_tg, high_bmi,\n",
    "                                   pd_status, smoking_status, htn_status, gd_status, index_age,\n",
    "                                   PC1, PC2, PC3, PC4, PC5, PC6, PC7, PC8, PC9, PC10, PC11, PC12, PC13, \n",
    "                                   PC14, PC15, PC16, pop_black, pop_lat, pop_more, pop_asian, \n",
    "                                   pop_aian, pop_mena, male) \n",
    "\n",
    "write.table(itt_statin_covs_df, \"itt_statin_covs_df.tsv\", row.names = FALSE, sep = \"\\t\", quote = FALSE, na = \"NA\")\n",
    "system(paste0(\"gsutil cp ./\", \"itt_statin_covs_df.tsv\", \" \", my_bucket, \"/sid_pheno_files/genomic/\"), intern=T)"
   ]
  },
  {
   "cell_type": "code",
   "execution_count": null,
   "metadata": {
    "vscode": {
     "languageId": "r"
    }
   },
   "outputs": [],
   "source": [
    "# Save genomic analysis versions of the data - non-users\n",
    "\n",
    "# Regenie phenotype file\n",
    "itt_nu_pheno_df <- itt_df %>%\n",
    "                            filter(group == \"non-user\") %>%\n",
    "                            select(FID, IID, status, time) \n",
    "\n",
    "write.table(itt_nu_pheno_df, \"itt_nu_pheno_df.tsv\", row.names = FALSE, sep = \"\\t\", quote = FALSE, na = \"NA\")\n",
    "system(paste0(\"gsutil cp ./\", \"itt_nu_pheno_df.tsv\", \" \", my_bucket, \"/sid_pheno_files/genomic/\"), intern=T)\n",
    "\n",
    "# Regenie covariate file\n",
    "itt_nu_covs_df <- itt_df %>% \n",
    "                            filter(group == \"non-user\") %>%\n",
    "                            select(FID, IID, low_hdl, high_tg, high_bmi,\n",
    "                                   pd_status, smoking_status, htn_status, gd_status, index_age,\n",
    "                                   PC1, PC2, PC3, PC4, PC5, PC6, PC7, PC8, PC9, PC10, PC11, PC12, PC13, \n",
    "                                   PC14, PC15, PC16, pop_black, pop_lat, pop_more, pop_asian, \n",
    "                                   pop_aian, pop_mena, male) \n",
    "\n",
    "write.table(itt_nu_covs_df, \"itt_nu_covs_df.tsv\", row.names = FALSE, sep = \"\\t\", quote = FALSE, na = \"NA\")\n",
    "system(paste0(\"gsutil cp ./\", \"itt_nu_covs_df.tsv\", \" \", my_bucket, \"/sid_pheno_files/genomic/\"), intern=T)"
   ]
  },
  {
   "cell_type": "code",
   "execution_count": null,
   "metadata": {
    "vscode": {
     "languageId": "r"
    }
   },
   "outputs": [],
   "source": [
    "# Select ID columns\n",
    "itt_ids <- itt_df %>% select(FID, IID)\n",
    "\n",
    "# Save IDs\n",
    "write.table(itt_ids, \"itt_ids_v2.txt\", sep = \"\\t\", col.names = FALSE, quote = FALSE, row.names = FALSE)\n",
    "system(paste0(\"gsutil cp ./\", \"itt_ids_v2.txt\", \" \", my_bucket, \"/sid_pheno_files/genomic/\"), intern=T)\n",
    "\n",
    "# Select ID columns - statin users\n",
    "itt_statin_ids <- itt_df %>% filter(group == \"user\") %>% select(FID, IID)\n",
    "\n",
    "# Save IDs\n",
    "write.table(itt_statin_ids, \"itt_statin_ids_v2.txt\", sep = \"\\t\", col.names = FALSE, quote = FALSE, row.names = FALSE)\n",
    "system(paste0(\"gsutil cp ./\", \"itt_statin_ids_v2.txt\", \" \", my_bucket, \"/sid_pheno_files/genomic/\"), intern=T)"
   ]
  },
  {
   "cell_type": "markdown",
   "metadata": {},
   "source": [
    "# Create Change in LDL Subset"
   ]
  },
  {
   "cell_type": "markdown",
   "metadata": {},
   "source": [
    "**Objective**: The purpose of this section is to create a subset of the main study population where statin users demonstrated an at least 30% decrease in low-density lipoprotein (LDL-C) after starting statins. This is becuase moderate intensity statins should lower LDL-C by at least 30%, and we want to determine who in our cohort took an at least moderate intensity statin, and whether or not those statins were effective. Only non-users that were matched with eligible statin users in this subset, maintaining the matching structure.\n",
    "\n",
    "This section also involves the creation of baseline and change in LDL-C variables, for further analysis of LDL-C."
   ]
  },
  {
   "cell_type": "code",
   "execution_count": null,
   "metadata": {
    "vscode": {
     "languageId": "r"
    }
   },
   "outputs": [],
   "source": [
    "# Pull in intention-to-treat data frame\n",
    "system(paste0(\"gsutil cp \", my_bucket, \"/sid_pheno_files/\", \"itt_df_v2.csv\", \" .\"), intern=T)\n",
    "itt_df <- read.csv(\"itt_df_v2.csv\")"
   ]
  },
  {
   "cell_type": "code",
   "execution_count": null,
   "metadata": {
    "vscode": {
     "languageId": "r"
    }
   },
   "outputs": [],
   "source": [
    "# Find the most recent LDL measurement before starting statins\n",
    "ldl30_df_1 <- itt_df %>% filter(group == \"user\") %>%\n",
    "                left_join(dataset_97827399_measurement_df) %>% \n",
    "                filter(unit_concept_name == 'milligram per deciliter' | \n",
    "                       unit_concept_name == 'milligram per deciliter calculated' |\n",
    "                       unit_concept_name == 'mg/dL') %>% \n",
    "                filter(value_as_number > 0 & value_as_number < 1000) %>%\n",
    "                group_by(person_id) %>%\n",
    "                arrange(person_id, as.Date(measurement_datetime)) %>%\n",
    "                filter(as.Date(measurement_datetime) <= as.Date(index_date)) %>%\n",
    "                slice_tail() %>%\n",
    "                mutate(first_ldl_date = measurement_datetime,\n",
    "                      first_ldl = value_as_number) %>%\n",
    "                select(person_id, eof_date, index_date, first_ldl_date, first_ldl)\n",
    "\n",
    "# Check data frame\n",
    "length(unique(ldl30_df_1$person_id))\n",
    "dim(ldl30_df_1)\n",
    "# head(ldl30_df_1)\n",
    "\n",
    "# Find LDL measurements that occur during follow-up period\n",
    "ldl30_df_2 <- itt_df %>% filter(group == \"user\") %>%\n",
    "                left_join(dataset_97827399_measurement_df) %>%\n",
    "                filter(unit_concept_name == 'milligram per deciliter' | \n",
    "                       unit_concept_name == 'milligram per deciliter calculated' |\n",
    "                       unit_concept_name == 'mg/dL') %>%\n",
    "                filter(value_as_number > 0 & value_as_number < 1000) %>%\n",
    "                group_by(person_id) %>%\n",
    "                arrange(person_id, as.Date(measurement_datetime)) %>%\n",
    "                filter(as.Date(measurement_datetime) <= as.Date(eof_date) & as.Date(measurement_datetime) > as.Date(index_date)) %>%\n",
    "                select(person_id, eof_date, index_date, measurement_datetime, value_as_number)\n",
    "\n",
    "# Check data frame\n",
    "length(unique(ldl30_df_2$person_id))\n",
    "dim(ldl30_df_2)\n",
    "# head(ldl30_df_2)"
   ]
  },
  {
   "cell_type": "code",
   "execution_count": null,
   "metadata": {
    "vscode": {
     "languageId": "r"
    }
   },
   "outputs": [],
   "source": [
    "# Join before and after measurements and filter for participants with a greater than 30% decrease in LDL-C after \n",
    "# starting statins\n",
    "ldl30_ids <- inner_join(ldl30_df_1, ldl30_df_2, by = join_by(person_id, eof_date, index_date)) %>%\n",
    "                mutate(change_ldl = (value_as_number-first_ldl)/first_ldl) %>%\n",
    "                filter(change_ldl <= -0.30) %>%\n",
    "                ungroup() %>%\n",
    "                select(person_id) %>% \n",
    "                distinct(.keep_all = TRUE)\n",
    "\n",
    "# Check eligible IDs\n",
    "length(unique(ldl30_ids$person_id))\n",
    "dim(ldl30_ids)\n",
    "# head(ldl30_ids)"
   ]
  },
  {
   "cell_type": "code",
   "execution_count": null,
   "metadata": {
    "vscode": {
     "languageId": "r"
    }
   },
   "outputs": [],
   "source": [
    "# Subset the original ITT df using the LDL-filtered IDs for statin users and their matched non-users\n",
    "ldl30_df <- itt_df %>% filter(match_group %in% ldl30_ids$person_id)\n",
    "\n",
    "# Check LDL-filtered df\n",
    "table(ldl30_df$group)\n",
    "length(unique(ldl30_df$person_id))\n",
    "dim(ldl30_df)\n",
    "# head(ldl30_df)"
   ]
  },
  {
   "cell_type": "code",
   "execution_count": null,
   "metadata": {
    "vscode": {
     "languageId": "r"
    }
   },
   "outputs": [],
   "source": [
    "# Define variables for Table 1\n",
    "library(tableone)\n",
    "myVars <- c(\"t2d_status\", \"sex_at_birth\", \"race\", \"ethnicity\", \"low_hdl\", \"high_tg\", \"high_bmi\", \"pd_status\", \n",
    "            \"smoking_status\", \"htn_status\", \"gd_status\", \"index_age\", \"eof_age\", \"group\", \"propensity_scores\", \n",
    "            \"time\", \"statin_type\", \"statin_intensity\", \"statin_lipo\")\n",
    "\n",
    "catVars <- c(\"t2d_status\", \"sex_at_birth\", \"race\", \"ethnicity\", \"low_hdl\", \"high_tg\", \"high_bmi\", \"pd_status\", \n",
    "            \"smoking_status\", \"htn_status\", \"gd_status\", \"group\", \"statin_type\", \"statin_intensity\", \"statin_lipo\")"
   ]
  },
  {
   "cell_type": "code",
   "execution_count": null,
   "metadata": {
    "vscode": {
     "languageId": "r"
    }
   },
   "outputs": [],
   "source": [
    "# Create Table 1 for LDL-filtered subset\n",
    "tab_ldl30 <- CreateTableOne(vars = myVars, strata = \"group\", data = ldl30_df, factorVars = catVars, test = TRUE)\n",
    "as.data.frame(print(tab_ldl30, noSpaces = TRUE, printToggle = FALSE))"
   ]
  },
  {
   "cell_type": "code",
   "execution_count": null,
   "metadata": {
    "vscode": {
     "languageId": "r"
    }
   },
   "outputs": [],
   "source": [
    "# Save data frame\n",
    "write.csv(ldl30_df, \"ldl30_df_v2.csv\")\n",
    "system(paste0(\"gsutil cp ./\", \"ldl30_df_v2.csv\", \" \", my_bucket, \"/sid_pheno_files/\"), intern=T)"
   ]
  },
  {
   "cell_type": "code",
   "execution_count": null,
   "metadata": {
    "vscode": {
     "languageId": "r"
    }
   },
   "outputs": [],
   "source": [
    "# Save genomic analysis versions of the data - statin users\n",
    "\n",
    "# Regenie phenotype file\n",
    "ldl30_statin_pheno_df <- ldl30_df %>%\n",
    "                            filter(group == \"user\") %>%\n",
    "                            select(FID, IID, status, time)\n",
    "\n",
    "write.table(ldl30_statin_pheno_df, \"ldl30_statin_pheno_df.tsv\", row.names = FALSE, sep = \"\\t\", quote = FALSE, na = \"NA\")\n",
    "system(paste0(\"gsutil cp ./\", \"ldl30_statin_pheno_df.tsv\", \" \", my_bucket, \"/sid_pheno_files/genomic/\"), intern=T)\n",
    "\n",
    "# Regenie covariate file\n",
    "ldl30_statin_covs_df <- ldl30_df %>% \n",
    "                            filter(group == \"user\") %>%\n",
    "                            select(FID, IID, low_hdl, high_tg, high_bmi,\n",
    "                                   pd_status, smoking_status, htn_status, gd_status, index_age,\n",
    "                                   PC1, PC2, PC3, PC4, PC5, PC6, PC7, PC8, PC9, PC10, PC11, PC12, PC13, \n",
    "                                   PC14, PC15, PC16, pop_black, pop_lat, pop_more, pop_asian, \n",
    "                                   pop_aian, pop_mena, male) \n",
    "\n",
    "write.table(ldl30_statin_covs_df, \"ldl30_statin_covs_df.tsv\", row.names = FALSE, sep = \"\\t\", quote = FALSE, na = \"NA\")\n",
    "system(paste0(\"gsutil cp ./\", \"ldl30_statin_covs_df.tsv\", \" \", my_bucket, \"/sid_pheno_files/genomic/\"), intern=T)"
   ]
  },
  {
   "cell_type": "code",
   "execution_count": null,
   "metadata": {
    "vscode": {
     "languageId": "r"
    }
   },
   "outputs": [],
   "source": [
    "# Save genomic analysis versions of the data - non-users\n",
    "\n",
    "# Regenie phenotype file\n",
    "ldl30_nu_pheno_df <- ldl30_df %>%\n",
    "                            filter(group == \"non-user\") %>%\n",
    "                            select(FID, IID, status, time) \n",
    "\n",
    "write.table(ldl30_nu_pheno_df, \"ldl30_nu_pheno_df.tsv\", row.names = FALSE, sep = \"\\t\", quote = FALSE, na = \"NA\")\n",
    "system(paste0(\"gsutil cp ./\", \"ldl30_nu_pheno_df.tsv\", \" \", my_bucket, \"/sid_pheno_files/genomic/\"), intern=T)\n",
    "\n",
    "# Regenie covariate file\n",
    "ldl30_nu_covs_df <- ldl30_df %>% \n",
    "                            filter(group == \"non-user\") %>%\n",
    "                            select(FID, IID, low_hdl, high_tg, high_bmi,\n",
    "                                   pd_status, smoking_status, htn_status, gd_status, index_age,\n",
    "                                   PC1, PC2, PC3, PC4, PC5, PC6, PC7, PC8, PC9, PC10, PC11, PC12, PC13, \n",
    "                                   PC14, PC15, PC16, pop_black, pop_lat, pop_more, pop_asian, \n",
    "                                   pop_aian, pop_mena, male) \n",
    "\n",
    "write.table(ldl30_nu_covs_df, \"ldl30_nu_covs_df.tsv\", row.names = FALSE, sep = \"\\t\", quote = FALSE, na = \"NA\")\n",
    "system(paste0(\"gsutil cp ./\", \"ldl30_nu_covs_df.tsv\", \" \", my_bucket, \"/sid_pheno_files/genomic/\"), intern=T)"
   ]
  },
  {
   "cell_type": "code",
   "execution_count": null,
   "metadata": {
    "vscode": {
     "languageId": "r"
    }
   },
   "outputs": [],
   "source": [
    "# Select ID columns\n",
    "ldl30_ids <- ldl30_df %>% select(FID, IID)\n",
    "\n",
    "# Save IDs\n",
    "write.table(ldl30_ids, \"ldl30_ids_v2.txt\", sep = \"\\t\", col.names = FALSE, quote = FALSE, row.names = FALSE)\n",
    "system(paste0(\"gsutil cp ./\", \"ldl30_ids_v2.txt\", \" \", my_bucket, \"/sid_pheno_files/genomic/\"), intern=T)\n",
    "\n",
    "# Select ID columns - statin users\n",
    "ldl30_statin_ids <- ldl30_df %>% filter(group == \"user\") %>% select(FID, IID)\n",
    "\n",
    "# Save IDs\n",
    "write.table(ldl30_statin_ids, \"ldl30_statin_ids_v2.txt\", sep = \"\\t\", col.names = FALSE, quote = FALSE, row.names = FALSE)\n",
    "system(paste0(\"gsutil cp ./\", \"ldl30_statin_ids_v2.txt\", \" \", my_bucket, \"/sid_pheno_files/genomic/\"), intern=T)"
   ]
  },
  {
   "cell_type": "markdown",
   "metadata": {},
   "source": [
    "## Create baseline LDL-C and change in LDL-C variables"
   ]
  },
  {
   "cell_type": "code",
   "execution_count": null,
   "metadata": {
    "vscode": {
     "languageId": "r"
    }
   },
   "outputs": [],
   "source": [
    "# Pull in intention-to-treat data frame\n",
    "system(paste0(\"gsutil cp \", my_bucket, \"/sid_pheno_files/\", \"itt_df_v2.csv\", \" .\"), intern=T)\n",
    "itt_df <- read.csv(\"itt_df_v2.csv\")"
   ]
  },
  {
   "cell_type": "code",
   "execution_count": null,
   "metadata": {
    "vscode": {
     "languageId": "r"
    }
   },
   "outputs": [],
   "source": [
    "# Find the most recent LDL measurement before starting statins\n",
    "ldl_df_1 <- itt_df %>%\n",
    "                left_join(dataset_97827399_measurement_df) %>% \n",
    "                filter(unit_concept_name == 'milligram per deciliter' | \n",
    "                       unit_concept_name == 'milligram per deciliter calculated' |\n",
    "                       unit_concept_name == 'mg/dL') %>%\n",
    "                filter(value_as_number > 0 & value_as_number < 1000) %>%\n",
    "                group_by(person_id) %>%\n",
    "                arrange(person_id, as.Date(measurement_datetime)) %>%\n",
    "                filter(as.Date(measurement_datetime) <= as.Date(index_date) & value_as_number != 0) %>%\n",
    "                slice_tail() %>%\n",
    "                mutate(first_ldl_date = measurement_datetime,\n",
    "                      first_ldl = value_as_number) %>%\n",
    "                select(person_id, match_group, group, eof_date, index_date, statin_end_date, \n",
    "                       first_ldl_date, first_ldl) %>% \n",
    "                ungroup()\n",
    "\n",
    "# Check data frame\n",
    "length(unique(ldl_df_1$person_id))\n",
    "table(ldl_df_1$group)\n",
    "dim(ldl_df_1)\n",
    "# head(ldl_df_1)\n",
    "ldl_df_1 %>% group_by(group) %>% summarize(na_baseline_ldl = sum(is.na(first_ldl)))\n",
    "\n",
    "# Find LDL measurements that occur during follow-up period\n",
    "ldl_df_2 <- itt_df %>%\n",
    "                left_join(dataset_97827399_measurement_df) %>%\n",
    "                filter(unit_concept_name == 'milligram per deciliter' | \n",
    "                       unit_concept_name == 'milligram per deciliter calculated' |\n",
    "                       unit_concept_name == 'mg/dL') %>%\n",
    "                filter(value_as_number > 0 & value_as_number < 1000) %>%\n",
    "                group_by(person_id) %>%\n",
    "                arrange(person_id, as.Date(measurement_datetime)) %>%\n",
    "                filter(as.Date(measurement_datetime) <= as.Date(eof_date) & as.Date(measurement_datetime) > as.Date(index_date)) %>%\n",
    "                select(person_id, match_group, group, eof_date, index_date, statin_end_date,\n",
    "                       measurement_datetime, value_as_number) %>%\n",
    "                rename(post_ldl_date = measurement_datetime,\n",
    "                       post_ldl_value = value_as_number) %>% arrange(desc(post_ldl_value))\n",
    "\n",
    "# Check data frame\n",
    "length(unique(ldl_df_2$person_id))\n",
    "table(ldl_df_2$group)\n",
    "dim(ldl_df_2)\n",
    "# head(ldl_df_2)\n",
    "ldl_df_2 %>% group_by(group) %>% summarize(na_post_ldl = sum(is.na(post_ldl_value)))"
   ]
  },
  {
   "cell_type": "code",
   "execution_count": null,
   "metadata": {
    "vscode": {
     "languageId": "r"
    }
   },
   "outputs": [],
   "source": [
    "# Join before and after measurements\n",
    "ldl_df <- inner_join(ldl_df_1, ldl_df_2, by = join_by(person_id, eof_date, index_date, match_group, group, statin_end_date))"
   ]
  },
  {
   "cell_type": "code",
   "execution_count": null,
   "metadata": {
    "vscode": {
     "languageId": "r"
    }
   },
   "outputs": [],
   "source": [
    "# Find the last LDL-C measurement before EoF\n",
    "ldl_df_last <- ldl_df %>%\n",
    "                group_by(person_id) %>%\n",
    "                arrange(person_id, as.Date(post_ldl_date)) %>%\n",
    "                filter(as.Date(post_ldl_date) <= as.Date(eof_date) & post_ldl_value != 0) %>%\n",
    "                slice_tail() %>%\n",
    "                mutate(last_ldl_date = post_ldl_date,\n",
    "                      last_ldl = post_ldl_value) %>%\n",
    "                select(person_id, match_group, group, eof_date, index_date, statin_end_date, \n",
    "                       last_ldl_date, last_ldl) %>% \n",
    "                ungroup() %>%\n",
    "                full_join(ldl_df)\n",
    "\n",
    "dim(ldl_df_last)\n",
    "# head(ldl_df_last)"
   ]
  },
  {
   "cell_type": "code",
   "execution_count": null,
   "metadata": {
    "vscode": {
     "languageId": "r"
    }
   },
   "outputs": [],
   "source": [
    "# Find the last LDL-C measurement that occured within 6 month of the last date of statin prescription\n",
    "ldl_df_last_statin <- ldl_df %>%\n",
    "                group_by(person_id) %>%\n",
    "                arrange(person_id, as.Date(post_ldl_date)) %>%\n",
    "                filter(as.Date(post_ldl_date) >= as.Date(statin_end_date) & as.numeric(difftime(as.Date(post_ldl_date), as.Date(statin_end_date))) <= 180 & post_ldl_value != 0) %>%\n",
    "                slice_head() %>%\n",
    "                mutate(last_statin_ldl_date = post_ldl_date,\n",
    "                      last_statin_ldl = post_ldl_value) %>%\n",
    "                select(person_id, match_group, group, eof_date, index_date, \n",
    "                       last_statin_ldl_date, last_statin_ldl) %>% \n",
    "                ungroup() %>%\n",
    "                full_join(ldl_df_last)\n",
    "\n",
    "dim(ldl_df_last_statin)\n",
    "# head(ldl_df_last_statin)"
   ]
  },
  {
   "cell_type": "code",
   "execution_count": null,
   "metadata": {
    "vscode": {
     "languageId": "r"
    }
   },
   "outputs": [],
   "source": [
    "# Find the first LDL-C measurement after index\n",
    "ldl_df_first_post <- ldl_df %>%\n",
    "                group_by(person_id) %>%\n",
    "                arrange(person_id, as.Date(post_ldl_date)) %>%\n",
    "                filter(as.Date(post_ldl_date) > as.Date(index_date) & post_ldl_value != 0) %>%\n",
    "                slice_head() %>%\n",
    "                mutate(first_post_ldl_date = post_ldl_date,\n",
    "                      first_post_ldl = post_ldl_value) %>%\n",
    "                select(person_id, match_group, group, eof_date, index_date, \n",
    "                       first_post_ldl_date, first_post_ldl) %>% \n",
    "                ungroup() %>%\n",
    "                full_join(ldl_df_last_statin)\n",
    "\n",
    "dim(ldl_df_first_post)\n",
    "# head(ldl_df_first_post)"
   ]
  },
  {
   "cell_type": "code",
   "execution_count": null,
   "metadata": {
    "scrolled": false,
    "vscode": {
     "languageId": "r"
    }
   },
   "outputs": [],
   "source": [
    "# Create change in LDL-C variables to try\n",
    "ldl_df_change <- ldl_df_first_post %>% \n",
    "                mutate(change_ldl = (post_ldl_value-first_ldl)/first_ldl,\n",
    "                       change_ldl_last = (last_ldl-first_ldl)/first_ldl,\n",
    "                       change_ldl_last_statin = (last_statin_ldl-first_ldl)/first_ldl,\n",
    "                       change_ldl_first_post = (first_post_ldl-first_ldl)/first_ldl) %>%\n",
    "                group_by(person_id) %>%\n",
    "                reframe(person_id = person_id, \n",
    "                        match_group = match_group, \n",
    "                        group = group, \n",
    "                        baseline_ldl = first_ldl, \n",
    "                        max_change_ldl = ifelse(any(abs(change_ldl) == max(abs(change_ldl))), \n",
    "                                                change_ldl[which(abs(change_ldl) == max(abs(change_ldl)))], \n",
    "                                                NA),\n",
    "                        max_decrease_ldl = ifelse(any(change_ldl < 0), min(change_ldl), NA),\n",
    "                        change_ldl_last = change_ldl_last,\n",
    "                        change_ldl_last_statin = change_ldl_last_statin,\n",
    "                        change_ldl_first_post = change_ldl_first_post\n",
    "                       ) %>%\n",
    "                ungroup() %>%\n",
    "                distinct(.keep_all = TRUE) %>%\n",
    "                mutate(change_ldl_last_statin = case_when(group == \"non-user\" ~ change_ldl_last,\n",
    "                                                          group == \"user\" ~ change_ldl_last_statin)) %>%\n",
    "                group_by(match_group) %>%\n",
    "                mutate(change_ldl_last_statin2 = ifelse(any(is.na(change_ldl_last_statin)), NA, \"X\")) %>%\n",
    "                ungroup() %>%\n",
    "                mutate(change_ldl_last_statin = ifelse(is.na(change_ldl_last_statin2), NA, change_ldl_last_statin)) %>%\n",
    "                arrange(person_id) %>%\n",
    "                select(-change_ldl_last_statin2)\n",
    "\n",
    "# Check\n",
    "length(unique(ldl_df_change$person_id))\n",
    "table(ldl_df_change$group)\n",
    "dim(ldl_df_change)\n",
    "# head(ldl_df_change %>% arrange(match_group))"
   ]
  },
  {
   "cell_type": "code",
   "execution_count": null,
   "metadata": {
    "vscode": {
     "languageId": "r"
    }
   },
   "outputs": [],
   "source": [
    "# Join change in LDL columns to main data frame to capture adjustment variables - statin users + 2 non-users\n",
    "ldl_df <- full_join(ldl_df_change, itt_df, by = join_by(person_id, match_group, group)) %>% \n",
    "                select(-X) %>%\n",
    "                filter((group == \"user\" & !is.na(baseline_ldl) & !is.na(max_change_ldl)) | group == \"non-user\") %>%\n",
    "                mutate(max_change_group = case_when(max_change_ldl <= -0.5 & group == 'user' ~ \"high\",\n",
    "                                                    max_change_ldl <= -0.3 & max_change_ldl > -0.5 & group == 'user' ~ \"moderate\",\n",
    "                                                    max_change_ldl > -0.3 & max_change_ldl < 0 & group == 'user' ~ \"low\",\n",
    "                                                    max_change_ldl >= 0 & group == 'user' ~ \"increase\",\n",
    "                                                    group == 'non-user' ~ \"non_user\"),\n",
    "                      max_dec_group = case_when(max_decrease_ldl <= -0.5 & group == 'user' ~ \"high\",\n",
    "                                                    max_decrease_ldl <= -0.3 & max_decrease_ldl > -0.5 & group == 'user' ~ \"moderate\",\n",
    "                                                    max_decrease_ldl > -0.3 & max_decrease_ldl < 0 & group == 'user' ~ \"low\",\n",
    "                                                    group == 'non-user' ~ \"non_user\"),\n",
    "                      last_change_group = case_when(change_ldl_last <= -0.5 & group == 'user' ~ \"high\",\n",
    "                                                    change_ldl_last <= -0.3 & change_ldl_last > -0.5 & group == 'user' ~ \"moderate\",\n",
    "                                                    change_ldl_last > -0.3 & change_ldl_last < 0 & group == 'user' ~ \"low\",\n",
    "                                                    change_ldl_last >= 0 & group == 'user' ~ \"increase\",\n",
    "                                                    group == 'non-user' ~ \"non_user\"),\n",
    "                      last_statin_change_group = case_when(change_ldl_last_statin <= -0.5 & group == 'user' ~ \"high\",\n",
    "                                                    change_ldl_last_statin <= -0.3 & change_ldl_last_statin > -0.5 & group == 'user' ~ \"moderate\",\n",
    "                                                    change_ldl_last_statin > -0.3 & change_ldl_last_statin < 0 & group == 'user' ~ \"low\",\n",
    "                                                    change_ldl_last_statin >= 0 & group == 'user' ~ \"increase\",\n",
    "                                                    group == 'non-user' ~ \"non_user\"),\n",
    "                      first_post_change_group = case_when(change_ldl_first_post <= -0.5 & group == 'user' ~ \"high\",\n",
    "                                                    change_ldl_first_post <= -0.3 & change_ldl_first_post > -0.5 & group == 'user' ~ \"moderate\",\n",
    "                                                    change_ldl_first_post > -0.3 & change_ldl_first_post < 0 & group == 'user' ~ \"low\",\n",
    "                                                    change_ldl_first_post >= 0 & group == 'user' ~ \"increase\",\n",
    "                                                    group == 'non-user' ~ \"non_user\")) %>%\n",
    "                group_by(match_group) %>%\n",
    "                filter(n() == 3) %>%\n",
    "                ungroup() %>%\n",
    "                arrange(match_group)\n",
    "\n",
    "# Check\n",
    "length(unique(ldl_df$person_id))\n",
    "table(ldl_df$group, ldl_df$max_change_group, useNA = 'always')\n",
    "table(ldl_df$group, ldl_df$max_dec_group, useNA = 'always')\n",
    "table(ldl_df$group, ldl_df$last_change_group, useNA = 'always')\n",
    "table(ldl_df$group, ldl_df$last_statin_change_group, useNA = 'always')\n",
    "table(ldl_df$group, ldl_df$first_post_change_group, useNA = 'always')\n",
    "dim(ldl_df)\n",
    "# head(ldl_df)"
   ]
  },
  {
   "cell_type": "code",
   "execution_count": null,
   "metadata": {
    "vscode": {
     "languageId": "r"
    }
   },
   "outputs": [],
   "source": [
    "# Save data frames\n",
    "write.csv(ldl_df, \"ldl_df_v3.csv\")\n",
    "system(paste0(\"gsutil cp ./\", \"ldl_df_v3.csv\", \" \", my_bucket, \"/sid_pheno_files/\"), intern=T)"
   ]
  },
  {
   "cell_type": "code",
   "execution_count": null,
   "metadata": {
    "vscode": {
     "languageId": "r"
    }
   },
   "outputs": [],
   "source": [
    "# Function to summarize LDL-C variables\n",
    "summarize_ldl <- function(ldl) {\n",
    "    \n",
    "    # Summarize maxiumum change in LDL-C\n",
    "    summary <- ldl_df %>% group_by(group) %>%\n",
    "            summarize(min = min(get(ldl), na.rm = TRUE),\n",
    "                      mean = mean(get(ldl), na.rm = TRUE),\n",
    "                      median = median(get(ldl), na.rm = TRUE),\n",
    "                      max = max(get(ldl), na.rm = TRUE))\n",
    "    \n",
    "    print(summary)\n",
    "\n",
    "    # Define variables for Table 1\n",
    "    myVars <- c(\"t2d_status\", ldl)\n",
    "    catVars <- c(\"t2d_status\")\n",
    "\n",
    "    # Create Table 1 to see differences in baseline LDL\n",
    "    tab_change_ldl <- CreateTableOne(vars = myVars, strata = \"group\", data = ldl_df, factorVars = catVars, test = TRUE)\n",
    "    print(as.data.frame(print(tab_change_ldl, noSpaces = TRUE, printToggle = FALSE)))\n",
    "\n",
    "    # Create grouped boxplots\n",
    "    boxplot <- ggplot(ldl_df, aes(x = group, y = .data[[ldl]], fill = group)) +\n",
    "                    geom_boxplot() +\n",
    "                    coord_flip() +\n",
    "                    theme_void() +\n",
    "                    scale_fill_manual(values = c(\"#C32882\", \"#178CCB\")) +\n",
    "                    theme(legend.position = \"none\")\n",
    "\n",
    "    # Create grouped density plots\n",
    "    density_plot <- ggplot(ldl_df, aes(x = .data[[ldl]], fill = group)) +\n",
    "                        geom_density(alpha = 0.5) +\n",
    "                        labs(x = paste0(\"Change in LDL-C (\", ldl, \")\"), y = \"Density\") +\n",
    "                        scale_fill_manual(values = c(\"#C32882\", \"#178CCB\")) +\n",
    "                        theme_minimal()\n",
    "\n",
    "    # Combine plots\n",
    "    combined_plot <- plot_grid(boxplot, density_plot, ncol = 1, rel_heights = c(1, 8))\n",
    "    print(combined_plot)\n",
    "    }\n"
   ]
  },
  {
   "cell_type": "code",
   "execution_count": null,
   "metadata": {
    "vscode": {
     "languageId": "r"
    }
   },
   "outputs": [],
   "source": [
    "# Print summary for baseline LDL-C\n",
    "summarize_ldl(\"baseline_ldl\")"
   ]
  },
  {
   "cell_type": "code",
   "execution_count": null,
   "metadata": {
    "scrolled": false,
    "vscode": {
     "languageId": "r"
    }
   },
   "outputs": [],
   "source": [
    "# Print summary for maximum change in LDL-C\n",
    "summarize_ldl(\"max_change_ldl\")"
   ]
  },
  {
   "cell_type": "code",
   "execution_count": null,
   "metadata": {
    "vscode": {
     "languageId": "r"
    }
   },
   "outputs": [],
   "source": [
    "# Print summary for maximum decrease in LDL-C\n",
    "summarize_ldl(\"max_decrease_ldl\")"
   ]
  },
  {
   "cell_type": "code",
   "execution_count": null,
   "metadata": {
    "vscode": {
     "languageId": "r"
    }
   },
   "outputs": [],
   "source": [
    "# Print summary for change in LDL-C from baseline to last LDL-C\n",
    "summarize_ldl(\"change_ldl_last\")"
   ]
  },
  {
   "cell_type": "code",
   "execution_count": null,
   "metadata": {
    "vscode": {
     "languageId": "r"
    }
   },
   "outputs": [],
   "source": [
    "# Print summary for change in LDL-C from baseline to most recent LDL-C post statin end\n",
    "summarize_ldl(\"change_ldl_last_statin\")"
   ]
  },
  {
   "cell_type": "code",
   "execution_count": null,
   "metadata": {
    "vscode": {
     "languageId": "r"
    }
   },
   "outputs": [],
   "source": [
    "# Print summary for change in LDL-C from baseline to first LDL-C post statin initiation\n",
    "summarize_ldl(\"change_ldl_first_post\")"
   ]
  },
  {
   "cell_type": "markdown",
   "metadata": {},
   "source": [
    "# Create Per Protocol Subset"
   ]
  },
  {
   "cell_type": "markdown",
   "metadata": {},
   "source": [
    "**Objective**: The purpose of this section is to create a subset of statin users who followed a full statin protocol and their matched non-users. To be eligible for this subset, statin users must:\n",
    "- have statin prescriptions covering at least 80% of their follow-up duration \n",
    "- have statin prescriptions less than 30 days before the end of follow-up"
   ]
  },
  {
   "cell_type": "code",
   "execution_count": null,
   "metadata": {
    "vscode": {
     "languageId": "r"
    }
   },
   "outputs": [],
   "source": [
    "# Calculate total time covered by statin prescriptions while considering overlaps - Code provided by lab member\n",
    "calculate_total_time <- function(data) {\n",
    "    \n",
    "    # Sort data by start date\n",
    "    data <-  data %>% arrange(rx_start_date)\n",
    "    \n",
    "    # Initialize variables\n",
    "    sum <- 0\n",
    "    prev_start <- NULL\n",
    "    prev_end <- NULL\n",
    "    \n",
    "    for (i in 1:nrow(data)) {\n",
    "        current_start <- data$rx_start_date[i]\n",
    "        current_end <- data$new_rx_end_date[i]\n",
    "        \n",
    "        if (is.null(prev_start)) {\n",
    "            prev_start <- current_start\n",
    "            prev_end <- current_end\n",
    "        } else if (current_start > prev_end) {\n",
    "            sum <- sum + as.numeric(difftime(prev_end, prev_start, units = \"days\"))\n",
    "            prev_start <- current_start\n",
    "            prev_end <- current_end\n",
    "        } else if (current_end > prev_end) {\n",
    "            prev_end <- current_end\n",
    "        }\n",
    "    }\n",
    "    \n",
    "    if(!is.null(prev_start)) {\n",
    "        sum <- sum + as.numeric(difftime(prev_end, prev_start, units = \"days\"))\n",
    "    }\n",
    "    \n",
    "    return(sum)\n",
    "}"
   ]
  },
  {
   "cell_type": "code",
   "execution_count": null,
   "metadata": {
    "vscode": {
     "languageId": "r"
    }
   },
   "outputs": [],
   "source": [
    "# Filter statin users who have used statins 30 days or fewer before end of follow-up and are ≥80% adherent\n",
    "per_protocol_ids <- inner_join(itt_df, statin_rx_df_itt, by = join_by(person_id, t2d_status, eof_age)) %>% \n",
    "                group_by(person_id) %>%\n",
    "                filter(as.Date(rx_start_date) <= as.Date(eof_date)) %>%\n",
    "                mutate(max_rx_end_date = max(rx_end_date),\n",
    "                       recent_use_time = as.numeric(difftime(as.Date(max_rx_end_date), \n",
    "                                                                     as.Date(eof_datetime), \n",
    "                                                                     units = 'days')),\n",
    "                       recent_user = ifelse(recent_use_time > -30, 1, 0),\n",
    "                       new_rx_end_date = as.Date(ifelse(rx_end_date > eof_date, eof_date, rx_end_date)),\n",
    "                       totalSUP = calculate_total_time(cur_data()),\n",
    "                       PDC = as.numeric(totalSUP/follow_up_time_1),\n",
    "                       pdc_adherent = ifelse(PDC >= 0.8, 1, 0)) %>% \n",
    "                filter(recent_user == 1 & pdc_adherent == 1) %>% \n",
    "                ungroup() %>%\n",
    "                select(person_id) %>%\n",
    "                distinct(.keep_all = TRUE)\n",
    "\n",
    "# Check eligible IDs\n",
    "length(unique(per_protocol_ids$person_id))\n",
    "dim(per_protocol_ids)\n",
    "# head(per_protocol_ids)"
   ]
  },
  {
   "cell_type": "code",
   "execution_count": null,
   "metadata": {
    "vscode": {
     "languageId": "r"
    }
   },
   "outputs": [],
   "source": [
    "# Subset the original ITT df using the per protocol IDs for statin users and their matched non-users\n",
    "per_protocol_df <- itt_df %>% filter(match_group %in% per_protocol_ids$person_id)\n",
    "\n",
    "# Check per protocol df\n",
    "table(per_protocol_df$group)\n",
    "length(unique(per_protocol_df$person_id))\n",
    "dim(per_protocol_df)\n",
    "# head(per_protocol_df)"
   ]
  },
  {
   "cell_type": "code",
   "execution_count": null,
   "metadata": {
    "vscode": {
     "languageId": "r"
    }
   },
   "outputs": [],
   "source": [
    "# Define variables for Table 1\n",
    "library(tableone)\n",
    "myVars <- c(\"t2d_status\", \"sex_at_birth\", \"race\", \"ethnicity\", \"low_hdl\", \"high_tg\", \"high_bmi\", \"pd_status\", \n",
    "            \"smoking_status\", \"htn_status\", \"gd_status\", \"index_age\", \"eof_age\", \"group\", \"propensity_scores\", \n",
    "            \"time\", \"statin_type\", \"statin_intensity\", \"statin_lipo\")\n",
    "\n",
    "catVars <- c(\"t2d_status\", \"sex_at_birth\", \"race\", \"ethnicity\", \"low_hdl\", \"high_tg\", \"high_bmi\", \"pd_status\", \n",
    "            \"smoking_status\", \"htn_status\", \"gd_status\", \"group\", \"statin_type\", \"statin_intensity\", \"statin_lipo\")"
   ]
  },
  {
   "cell_type": "code",
   "execution_count": null,
   "metadata": {
    "vscode": {
     "languageId": "r"
    }
   },
   "outputs": [],
   "source": [
    "# Create Table 1 for per protocol subset\n",
    "tab_per_protocol <- CreateTableOne(vars = myVars, strata = \"group\", data = per_protocol_df, factorVars = catVars, test = TRUE)\n",
    "as.data.frame(print(tab_per_protocol, noSpaces = TRUE, printToggle = FALSE))"
   ]
  },
  {
   "cell_type": "code",
   "execution_count": null,
   "metadata": {
    "vscode": {
     "languageId": "r"
    }
   },
   "outputs": [],
   "source": [
    "# Save data frame\n",
    "write.csv(per_protocol_df, \"per_protocol_df_v2.csv\")\n",
    "system(paste0(\"gsutil cp ./\", \"per_protocol_df_v2.csv\", \" \", my_bucket, \"/sid_pheno_files/\"), intern=T)"
   ]
  },
  {
   "cell_type": "code",
   "execution_count": null,
   "metadata": {
    "vscode": {
     "languageId": "r"
    }
   },
   "outputs": [],
   "source": [
    "# Save genomic analysis versions of the data - statin users\n",
    "\n",
    "# Regenie phenotype file\n",
    "per_protocol_statin_pheno_df <- per_protocol_df %>%\n",
    "                            filter(group == \"user\") %>%\n",
    "                            select(FID, IID, status, time)\n",
    "\n",
    "write.table(per_protocol_statin_pheno_df, \"per_protocol_statin_pheno_df.tsv\", row.names = FALSE, sep = \"\\t\", quote = FALSE, na = \"NA\")\n",
    "system(paste0(\"gsutil cp ./\", \"per_protocol_statin_pheno_df.tsv\", \" \", my_bucket, \"/sid_pheno_files/genomic/\"), intern=T)\n",
    "\n",
    "# Regenie covariate file\n",
    "per_protocol_statin_covs_df <- per_protocol_df %>% \n",
    "                            filter(group == \"user\") %>%\n",
    "                            select(FID, IID, low_hdl, high_tg, high_bmi,\n",
    "                                   pd_status, smoking_status, htn_status, gd_status, index_age,\n",
    "                                   PC1, PC2, PC3, PC4, PC5, PC6, PC7, PC8, PC9, PC10, PC11, PC12, PC13, \n",
    "                                   PC14, PC15, PC16, pop_black, pop_lat, pop_more, pop_asian, \n",
    "                                   pop_aian, pop_mena, male) \n",
    "\n",
    "write.table(per_protocol_statin_covs_df, \"per_protocol_statin_covs_df.tsv\", row.names = FALSE, sep = \"\\t\", quote = FALSE, na = \"NA\")\n",
    "system(paste0(\"gsutil cp ./\", \"per_protocol_statin_covs_df.tsv\", \" \", my_bucket, \"/sid_pheno_files/genomic/\"), intern=T)"
   ]
  },
  {
   "cell_type": "code",
   "execution_count": null,
   "metadata": {
    "vscode": {
     "languageId": "r"
    }
   },
   "outputs": [],
   "source": [
    "# Save genomic analysis versions of the data - non-users\n",
    "\n",
    "# Regenie phenotype file\n",
    "per_protocol_nu_pheno_df <- per_protocol_df %>%\n",
    "                            filter(group == \"non-user\") %>%\n",
    "                            select(FID, IID, status, time) \n",
    "\n",
    "write.table(per_protocol_nu_pheno_df, \"per_protocol_nu_pheno_df.tsv\", row.names = FALSE, sep = \"\\t\", quote = FALSE, na = \"NA\")\n",
    "system(paste0(\"gsutil cp ./\", \"per_protocol_nu_pheno_df.tsv\", \" \", my_bucket, \"/sid_pheno_files/genomic/\"), intern=T)\n",
    "\n",
    "# Regenie covariate file\n",
    "per_protocol_nu_covs_df <- per_protocol_df %>% \n",
    "                            filter(group == \"non-user\") %>%\n",
    "                            select(FID, IID, low_hdl, high_tg, high_bmi,\n",
    "                                   pd_status, smoking_status, htn_status, gd_status, index_age,\n",
    "                                   PC1, PC2, PC3, PC4, PC5, PC6, PC7, PC8, PC9, PC10, PC11, PC12, PC13, \n",
    "                                   PC14, PC15, PC16, pop_black, pop_lat, pop_more, pop_asian, \n",
    "                                   pop_aian, pop_mena, male) \n",
    "\n",
    "write.table(per_protocol_nu_covs_df, \"per_protocol_nu_covs_df.tsv\", row.names = FALSE, sep = \"\\t\", quote = FALSE, na = \"NA\")\n",
    "system(paste0(\"gsutil cp ./\", \"per_protocol_nu_covs_df.tsv\", \" \", my_bucket, \"/sid_pheno_files/genomic/\"), intern=T)"
   ]
  },
  {
   "cell_type": "code",
   "execution_count": null,
   "metadata": {
    "vscode": {
     "languageId": "r"
    }
   },
   "outputs": [],
   "source": [
    "# Select ID columns\n",
    "per_protocol_ids <- per_protocol_df %>% select(FID, IID)\n",
    "\n",
    "# Save IDs\n",
    "write.table(per_protocol_ids, \"per_protocol_ids_v2.txt\", sep = \"\\t\", col.names = FALSE, quote = FALSE, row.names = FALSE)\n",
    "system(paste0(\"gsutil cp ./\", \"per_protocol_ids_v2.txt\", \" \", my_bucket, \"/sid_pheno_files/genomic/\"), intern=T)\n",
    "\n",
    "# Select ID columns - statin users\n",
    "per_protocol_statin_ids <- per_protocol_df %>% filter(group == \"user\") %>% select(FID, IID)\n",
    "\n",
    "# Save IDs\n",
    "write.table(per_protocol_statin_ids, \"per_protocol_statin_ids_v2.txt\", sep = \"\\t\", col.names = FALSE, quote = FALSE, row.names = FALSE)\n",
    "system(paste0(\"gsutil cp ./\", \"per_protocol_statin_ids_v2.txt\", \" \", my_bucket, \"/sid_pheno_files/genomic/\"), intern=T)"
   ]
  },
  {
   "cell_type": "markdown",
   "metadata": {},
   "source": [
    "# Self-Identified White subset"
   ]
  },
  {
   "cell_type": "markdown",
   "metadata": {},
   "source": [
    "**Objective**: The purpose of this section is to create a subset of self-identified white statin users and non-users. Since most of our analysis is done in a pooled cohort to maintain statistical power, and white participants make up a large proportion of said cohort (71.9%), they may have an outsized impact on the associations modeled. Creating this subset allows us to see the magnitude of said impact."
   ]
  },
  {
   "cell_type": "code",
   "execution_count": null,
   "metadata": {
    "vscode": {
     "languageId": "r"
    }
   },
   "outputs": [],
   "source": [
    "# Filter self-identified white statin users and keep their matching non-users\n",
    "white_ids <- itt_df %>% filter(population == \"White\" & group == \"user\") %>% select(person_id)\n",
    "white_df <- itt_df %>% filter(match_group %in% white_ids$person_id)"
   ]
  },
  {
   "cell_type": "code",
   "execution_count": null,
   "metadata": {
    "vscode": {
     "languageId": "r"
    }
   },
   "outputs": [],
   "source": [
    "# Define variables for Table 1\n",
    "library(tableone)\n",
    "myVars <- c(\"t2d_status\", \"sex_at_birth\", \"race\", \"ethnicity\", \"low_hdl\", \"high_tg\", \"high_bmi\", \"pd_status\", \n",
    "            \"smoking_status\", \"htn_status\", \"gd_status\", \"index_age\", \"eof_age\", \"group\", \"propensity_scores\", \n",
    "            \"time\", \"statin_type\", \"statin_intensity\", \"statin_lipo\")\n",
    "\n",
    "catVars <- c(\"t2d_status\", \"sex_at_birth\", \"race\", \"ethnicity\", \"low_hdl\", \"high_tg\", \"high_bmi\", \"pd_status\", \n",
    "            \"smoking_status\", \"htn_status\", \"gd_status\", \"group\", \"statin_type\", \"statin_intensity\", \"statin_lipo\")"
   ]
  },
  {
   "cell_type": "code",
   "execution_count": null,
   "metadata": {
    "vscode": {
     "languageId": "r"
    }
   },
   "outputs": [],
   "source": [
    "# Create Table 1 for self-identified white subset\n",
    "tab_white <- CreateTableOne(vars = myVars, strata = \"group\", data = white_df, factorVars = catVars, test = TRUE)\n",
    "as.data.frame(print(tab_white, noSpaces = TRUE, printToggle = FALSE))"
   ]
  },
  {
   "cell_type": "code",
   "execution_count": null,
   "metadata": {
    "vscode": {
     "languageId": "r"
    }
   },
   "outputs": [],
   "source": [
    "# Save data frame\n",
    "write.csv(white_df, \"white_df_v2.csv\")\n",
    "system(paste0(\"gsutil cp ./\", \"white_df_v2.csv\", \" \", my_bucket, \"/sid_pheno_files/\"), intern=T)"
   ]
  },
  {
   "cell_type": "code",
   "execution_count": null,
   "metadata": {
    "vscode": {
     "languageId": "r"
    }
   },
   "outputs": [],
   "source": [
    "# Save genomic analysis versions of the data - statin users\n",
    "\n",
    "# Regenie phenotype file\n",
    "white_statin_pheno_df <- white_df %>%\n",
    "                            filter(group == \"user\") %>%\n",
    "                            select(FID, IID, status, time)\n",
    "\n",
    "write.table(white_statin_pheno_df, \"white_statin_pheno_df.tsv\", row.names = FALSE, sep = \"\\t\", quote = FALSE, na = \"NA\")\n",
    "system(paste0(\"gsutil cp ./\", \"white_statin_pheno_df.tsv\", \" \", my_bucket, \"/sid_pheno_files/genomic/\"), intern=T)\n",
    "\n",
    "# Regenie covariate file\n",
    "white_statin_covs_df <- white_df %>% \n",
    "                            filter(group == \"user\") %>%\n",
    "                            select(FID, IID, low_hdl, high_tg, high_bmi,\n",
    "                                   pd_status, smoking_status, htn_status, gd_status, index_age,\n",
    "                                   PC1, PC2, PC3, PC4, PC5, PC6, PC7, PC8, PC9, PC10, PC11, PC12, PC13, \n",
    "                                   PC14, PC15, PC16, male) \n",
    "\n",
    "write.table(white_statin_covs_df, \"white_statin_covs_df.tsv\", row.names = FALSE, sep = \"\\t\", quote = FALSE, na = \"NA\")\n",
    "system(paste0(\"gsutil cp ./\", \"white_statin_covs_df.tsv\", \" \", my_bucket, \"/sid_pheno_files/genomic/\"), intern=T)"
   ]
  },
  {
   "cell_type": "code",
   "execution_count": null,
   "metadata": {
    "vscode": {
     "languageId": "r"
    }
   },
   "outputs": [],
   "source": [
    "# Save genomic analysis versions of the data - non-users\n",
    "\n",
    "# Regenie phenotype file\n",
    "white_nu_pheno_df <- white_df %>%\n",
    "                            filter(group == \"non-user\") %>%\n",
    "                            select(FID, IID, status, time) \n",
    "\n",
    "write.table(white_nu_pheno_df, \"white_nu_pheno_df.tsv\", row.names = FALSE, sep = \"\\t\", quote = FALSE, na = \"NA\")\n",
    "system(paste0(\"gsutil cp ./\", \"white_nu_pheno_df.tsv\", \" \", my_bucket, \"/sid_pheno_files/genomic/\"), intern=T)\n",
    "\n",
    "# Regenie covariate file\n",
    "white_nu_covs_df <- white_df %>% \n",
    "                            filter(group == \"non-user\") %>%\n",
    "                            select(FID, IID, low_hdl, high_tg, high_bmi,\n",
    "                                   pd_status, smoking_status, htn_status, gd_status, index_age,\n",
    "                                   PC1, PC2, PC3, PC4, PC5, PC6, PC7, PC8, PC9, PC10, PC11, PC12, PC13, \n",
    "                                   PC14, PC15, PC16, male) \n",
    "\n",
    "write.table(white_nu_covs_df, \"white_nu_covs_df.tsv\", row.names = FALSE, sep = \"\\t\", quote = FALSE, na = \"NA\")\n",
    "system(paste0(\"gsutil cp ./\", \"white_nu_covs_df.tsv\", \" \", my_bucket, \"/sid_pheno_files/genomic/\"), intern=T)"
   ]
  },
  {
   "cell_type": "code",
   "execution_count": null,
   "metadata": {
    "vscode": {
     "languageId": "r"
    }
   },
   "outputs": [],
   "source": [
    "# Select ID columns\n",
    "white_ids <- white_df %>% select(FID, IID)\n",
    "\n",
    "# Save IDs\n",
    "write.table(white_ids, \"white_ids_v2.txt\", sep = \"\\t\", col.names = FALSE, quote = FALSE, row.names = FALSE)\n",
    "system(paste0(\"gsutil cp ./\", \"white_ids_v2.txt\", \" \", my_bucket, \"/sid_pheno_files/genomic/\"), intern=T)\n",
    "\n",
    "# Select ID columns - statin users\n",
    "white_statin_ids <- white_df %>% filter(group == \"user\") %>% select(FID, IID)\n",
    "\n",
    "# Save IDs\n",
    "write.table(white_statin_ids, \"white_statin_ids_v2.txt\", sep = \"\\t\", col.names = FALSE, quote = FALSE, row.names = FALSE)\n",
    "system(paste0(\"gsutil cp ./\", \"white_statin_ids_v2.txt\", \" \", my_bucket, \"/sid_pheno_files/genomic/\"), intern=T)"
   ]
  },
  {
   "cell_type": "markdown",
   "metadata": {},
   "source": [
    "# Check Adherence"
   ]
  },
  {
   "cell_type": "markdown",
   "metadata": {},
   "source": [
    "**Objective**: The purpose of this section is to check the statin adherence for each subset. This is to make sure that on average, statin users have a reasonable amount of statin prescriptions throughout their follow-up period so that conclusions drawn are more credible. "
   ]
  },
  {
   "cell_type": "code",
   "execution_count": null,
   "metadata": {
    "vscode": {
     "languageId": "r"
    }
   },
   "outputs": [],
   "source": [
    "# Use calculate_total_time() function from previous section\n",
    "\n",
    "# Intention-to-treat adherence\n",
    "ad_check_itt <- inner_join(itt_df, statin_rx_df_itt, by = join_by(person_id, t2d_status, eof_age)) %>% \n",
    "                    group_by(person_id) %>%\n",
    "                    filter(as.Date(rx_start_date) <= as.Date(eof_date)) %>%\n",
    "                    mutate(new_rx_end_date = as.Date(ifelse(rx_end_date > eof_date, eof_date, rx_end_date)),\n",
    "                            totalSUP = calculate_total_time(cur_data()),\n",
    "                            PDC = as.numeric(totalSUP/follow_up_time_1),\n",
    "                            pdc_adherent = ifelse(PDC >= 0.8, 1, 0)) %>% ungroup()  \n",
    "\n",
    "ad_check_itt %>% summarize(rx_count = n(), user_count = length(unique(person_id)), min = min(PDC), \n",
    "                           median = median(PDC), mean = mean(PDC), max = max(PDC))"
   ]
  },
  {
   "cell_type": "code",
   "execution_count": null,
   "metadata": {
    "vscode": {
     "languageId": "r"
    }
   },
   "outputs": [],
   "source": [
    "# LDL-C filtered adherence\n",
    "ad_check_ldl <- inner_join(ldl30_df, statin_rx_df_itt, by = join_by(person_id, t2d_status, eof_age)) %>% \n",
    "                    group_by(person_id) %>%\n",
    "                    filter(as.Date(rx_start_date) <= as.Date(eof_date)) %>%\n",
    "                    mutate(new_rx_end_date = as.Date(ifelse(rx_end_date > eof_date, eof_date, rx_end_date)),\n",
    "                            totalSUP = calculate_total_time(cur_data()),\n",
    "                            PDC = as.numeric(totalSUP/follow_up_time_1),\n",
    "                            pdc_adherent = ifelse(PDC >= 0.8, 1, 0)) %>% ungroup()  \n",
    "\n",
    "ad_check_ldl %>% summarize(rx_count = n(), user_count = length(unique(person_id)), min = min(PDC), \n",
    "                           median = median(PDC), mean = mean(PDC), max = max(PDC))"
   ]
  },
  {
   "cell_type": "code",
   "execution_count": null,
   "metadata": {
    "vscode": {
     "languageId": "r"
    }
   },
   "outputs": [],
   "source": [
    "# Per protocol adherence\n",
    "ad_check_pp <- inner_join(per_protocol_df, statin_rx_df_itt, by = join_by(person_id, t2d_status, eof_age)) %>% \n",
    "                    group_by(person_id) %>%\n",
    "                    filter(as.Date(rx_start_date) <= as.Date(eof_date)) %>%\n",
    "                    mutate(new_rx_end_date = as.Date(ifelse(rx_end_date > eof_date, eof_date, rx_end_date)),\n",
    "                            totalSUP = calculate_total_time(cur_data()),\n",
    "                            PDC = as.numeric(totalSUP/follow_up_time_1),\n",
    "                            pdc_adherent = ifelse(PDC >= 0.8, 1, 0)) %>% ungroup()  \n",
    "\n",
    "ad_check_pp %>% summarize(rx_count = n(), user_count = length(unique(person_id)), min = min(PDC), \n",
    "                           median = median(PDC), mean = mean(PDC), max = max(PDC))"
   ]
  },
  {
   "cell_type": "code",
   "execution_count": null,
   "metadata": {
    "vscode": {
     "languageId": "r"
    }
   },
   "outputs": [],
   "source": [
    "# Self-identified white adherence\n",
    "ad_check_white <- inner_join(white_df, statin_rx_df_itt, by = join_by(person_id, t2d_status, eof_age)) %>% \n",
    "                    group_by(person_id) %>%\n",
    "                    filter(as.Date(rx_start_date) <= as.Date(eof_date)) %>%\n",
    "                    mutate(new_rx_end_date = as.Date(ifelse(rx_end_date > eof_date, eof_date, rx_end_date)),\n",
    "                            totalSUP = calculate_total_time(cur_data()),\n",
    "                            PDC = as.numeric(totalSUP/follow_up_time_1),\n",
    "                            pdc_adherent = ifelse(PDC >= 0.8, 1, 0)) %>% ungroup()  \n",
    "\n",
    "ad_check_white %>% summarize(rx_count = n(), user_count = length(unique(person_id)), min = min(PDC), \n",
    "                           median = median(PDC), mean = mean(PDC), max = max(PDC))"
   ]
  },
  {
   "cell_type": "markdown",
   "metadata": {},
   "source": [
    "# Create inclusion flowchart"
   ]
  },
  {
   "cell_type": "markdown",
   "metadata": {},
   "source": [
    "**Objective**: The purpose of this section is to create a flowchart of inclusion criteria for publication."
   ]
  },
  {
   "cell_type": "code",
   "execution_count": null,
   "metadata": {
    "vscode": {
     "languageId": "r"
    }
   },
   "outputs": [],
   "source": [
    "# Define inclusion criteria statements for flowchart\n",
    "eval_expressions <- list(\n",
    "  'Individuals in the AoURP \\nn=633,547',\n",
    "  'Has an end of follow-up date (random glucose, \\nfasting glucose, HbA1c, or death date) \\nn=297,459',\n",
    "  'Statin users',\n",
    "  '≥1 statin prescription before the end of follow-up \\nn=64,146',\n",
    "  '≥6 months of EHR data before statin initiation \\nand at least ≥30 days of follow-up after statin initiation \\nn=50,205',\n",
    "  'No missing demographic characteristics \\nn=48,095',\n",
    "  'Does not have Type 1 diabetes \\nn=47,576',\n",
    "  'No missing covariate data \\nn=41,995',\n",
    "  'Has srWGS data \\nn=35,668',\n",
    "  'Matched to two statin non-users \\nn=15,767',\n",
    "  '≥80% adherence and statin Rx ≤30 days \\nbefore end of follow-up (per protocol) \\nn=3,782',\n",
    "  'Self-identified white \\nn=11,339',\n",
    "  'Statin non-users',\n",
    "  'Did not have statin Rx or had <30 days of \\nfollow-up after starting statins \\nn=247,254',\n",
    "  'No missing demographic characteristics \\nn=159,011',\n",
    "  'Does not have Type 1 diabetes \\nn=156,759',\n",
    "  'No missing covariate data \\nn=73,255',\n",
    "  'Has srWGS data \\nn=61,138',\n",
    "  'Matched to a statin user \\nn=31,534',\n",
    "  'Matched to a statin user adhering \\nto per protocol conditions \\nn=7,564',\n",
    "  'Self-identified white \\nn=22,678'\n",
    ")\n",
    "\n",
    "# Define the diagram string\n",
    "diagram <- \"\n",
    "digraph flowchart {\n",
    "  # node definitions with substituted label text\n",
    "  node [fontname = Helvetica, shape = rectangle]\n",
    "  tab1 [label = '@@1']\n",
    "  tab2 [label = '@@2']\n",
    "  tab3 [label = '@@3']\n",
    "  tab4 [label = '@@4']\n",
    "  tab5 [label = '@@5']\n",
    "  tab6 [label = '@@6']\n",
    "  tab7 [label = '@@7']\n",
    "  tab8 [label = '@@8']\n",
    "  tab9 [label = '@@9']\n",
    "  tab10 [label = '@@10']\n",
    "  tab11 [label = '@@11']\n",
    "  tab12 [label = '@@12']\n",
    "  tab13 [label = '@@13']\n",
    "  tab14 [label = '@@14']\n",
    "  tab15 [label = '@@15']\n",
    "  tab16 [label = '@@16']\n",
    "  tab17 [label = '@@17']\n",
    "  tab18 [label = '@@18']\n",
    "  tab19 [label = '@@19']\n",
    "  tab20 [label = '@@20']\n",
    "  tab21 [label = '@@21'] \n",
    "\n",
    "  # edge definitions with the node IDs\n",
    "  tab1 -> tab2;\n",
    "  tab2 -> tab3 -> tab4 -> tab5 -> tab6 -> tab7 -> tab8 -> tab9 -> tab10;\n",
    "  tab10 -> tab11;\n",
    "  tab10 -> tab12;\n",
    "  tab2 -> tab13 -> tab14 -> tab15 -> tab16 -> tab17 -> tab18 -> tab19;\n",
    "  tab19 -> tab20;\n",
    "  tab19 -> tab21;\n",
    "}\n",
    "\"\n",
    "\n",
    "# Add zero-padding to the placeholder numbers\n",
    "diagram <- gsub(\"@@(\\\\d+)\", \"@@0\\\\1\", diagram)\n",
    "diagram <- gsub(\"@@0(\\\\d\\\\d)\", \"@@\\\\1\", diagram)  # Remove extra zero for double digits\n",
    "\n",
    "# Perform the substitutions with zero-padded numbers\n",
    "for (i in seq_along(eval_expressions)) {\n",
    "  i_padded <- sprintf(\"%02d\", i)  # Creates zero-padded numbers (01, 02, etc.)\n",
    "  diagram <- gsub(paste0(\"@@\", i_padded), eval_expressions[[i]], diagram)\n",
    "}\n",
    "\n",
    "# Pass the modified diagram string to grViz\n",
    "grViz(diagram)"
   ]
  }
 ],
 "metadata": {
  "kernelspec": {
   "display_name": "R",
   "language": "R",
   "name": "ir"
  },
  "language_info": {
   "codemirror_mode": "r",
   "file_extension": ".r",
   "mimetype": "text/x-r-source",
   "name": "R",
   "pygments_lexer": "r",
   "version": "4.5.0"
  },
  "toc": {
   "base_numbering": 1,
   "nav_menu": {},
   "number_sections": true,
   "sideBar": true,
   "skip_h1_title": false,
   "title_cell": "Table of Contents",
   "title_sidebar": "Contents",
   "toc_cell": false,
   "toc_position": {},
   "toc_section_display": true,
   "toc_window_display": false
  }
 },
 "nbformat": 4,
 "nbformat_minor": 2
}
