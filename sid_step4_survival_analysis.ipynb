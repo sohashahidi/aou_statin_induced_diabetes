{
 "cells": [
  {
   "cell_type": "markdown",
   "metadata": {},
   "source": [
    "# SID Genetics Study Step 4: Survival Analysis\n",
    "\n",
    "## Objective\n",
    "The purpose of this notebook is to run survival analyses on the main study population and its subsets. \n",
    "- Statistical techniques: survival analysis, adjusted Cox regression models, Kaplan-Meier curves"
   ]
  },
  {
   "cell_type": "markdown",
   "metadata": {},
   "source": [
    "# Pull in Data"
   ]
  },
  {
   "cell_type": "markdown",
   "metadata": {},
   "source": [
    "**Objective**: The purpose of this section is to load necessary packages + citations, and pull in data frames created in previous steps."
   ]
  },
  {
   "cell_type": "code",
   "execution_count": null,
   "metadata": {
    "vscode": {
     "languageId": "r"
    }
   },
   "outputs": [],
   "source": [
    "# install.packages('allofus')\n",
    "# install.packages('tidyverse')\n",
    "# install.packages('stats')\n",
    "# install.packages('survival')\n",
    "# install.packages('survminer')\n",
    "# install.packages('multcomp')\n",
    "# install.packages(\"cowplot\")\n",
    "# install.packages(\"tableone\")\n",
    "\n",
    "library(allofus)\n",
    "library(tidyverse)\n",
    "library(stats)\n",
    "library(survival)\n",
    "library(survminer)\n",
    "library(multcomp)\n",
    "library(ggplot2)\n",
    "library(cowplot)\n",
    "\n",
    "my_bucket <- Sys.getenv('WORKSPACE_BUCKET')"
   ]
  },
  {
   "cell_type": "code",
   "execution_count": null,
   "metadata": {
    "vscode": {
     "languageId": "r"
    }
   },
   "outputs": [],
   "source": [
    "citation('allofus')\n",
    "citation('tidyverse')\n",
    "citation('stats')\n",
    "citation('survival')\n",
    "citation('survminer')\n",
    "citation('multcomp')\n",
    "citation('cowplot')\n",
    "citation('tableone')"
   ]
  },
  {
   "cell_type": "code",
   "execution_count": null,
   "metadata": {
    "scrolled": false,
    "vscode": {
     "languageId": "r"
    }
   },
   "outputs": [],
   "source": [
    "# Pull in data frames for each subset\n",
    "system(paste0(\"gsutil cp \", my_bucket, \"/sid_pheno_files/\", \"itt_df_v2.csv\", \" .\"), intern=T)\n",
    "itt_df <- read.csv(\"itt_df_v2.csv\")\n",
    "\n",
    "dim(itt_df)\n",
    "# head(itt_df)\n",
    "\n",
    "system(paste0(\"gsutil cp \", my_bucket, \"/sid_pheno_files/\", \"ldl30_df_v2.csv\", \" .\"), intern=T)\n",
    "ldl30_df <- read.csv(\"ldl30_df_v2.csv\")\n",
    "\n",
    "dim(ldl30_df)\n",
    "# head(ldl30_df)\n",
    "\n",
    "system(paste0(\"gsutil cp \", my_bucket, \"/sid_pheno_files/\", \"per_protocol_df_v2.csv\", \" .\"), intern=T)\n",
    "per_protocol_df <- read.csv(\"per_protocol_df_v2.csv\")\n",
    "\n",
    "dim(per_protocol_df)\n",
    "# head(per_protocol_df)\n",
    "\n",
    "system(paste0(\"gsutil cp \", my_bucket, \"/sid_pheno_files/\", \"white_df_v2.csv\", \" .\"), intern=T)\n",
    "white_df <- read.csv(\"white_df_v2.csv\")\n",
    "\n",
    "dim(white_df)\n",
    "# head(white_df)\n",
    "\n",
    "# LDL-C Analysis data frame\n",
    "system(paste0(\"gsutil cp \", my_bucket, \"/sid_pheno_files/\", \"ldl_df_v3.csv\", \" .\"), intern=T)\n",
    "ldl30_df2 <- read.csv(\"ldl_df_v3.csv\")\n",
    "\n",
    "dim(ldl30_df2)\n",
    "# head(ldl30_df2)"
   ]
  },
  {
   "cell_type": "code",
   "execution_count": null,
   "metadata": {
    "vscode": {
     "languageId": "r"
    }
   },
   "outputs": [],
   "source": [
    "# Make sure LDL-C groups are properly leveled\n",
    "ldl_df <- ldl30_df2 %>% mutate(max_change_group = factor(max_change_group, \n",
    "                                                         levels = c(\"non_user\", \"increase\", \"low\", \n",
    "                                                                    \"moderate\", \"high\")),\n",
    "                               max_dec_group = factor(max_dec_group, \n",
    "                                                         levels = c(\"non_user\", \"low\", \n",
    "                                                                    \"moderate\", \"high\")),\n",
    "                               last_change_group = factor(last_change_group, \n",
    "                                                         levels = c(\"non_user\", \"increase\", \"low\", \n",
    "                                                                    \"moderate\", \"high\")),\n",
    "                               last_statin_change_group = factor(last_statin_change_group, \n",
    "                                                         levels = c(\"non_user\", \"increase\", \"low\", \n",
    "                                                                    \"moderate\", \"high\")),\n",
    "                               first_post_change_group = factor(first_post_change_group, \n",
    "                                                         levels = c(\"non_user\", \"increase\", \"low\", \n",
    "                                                                    \"moderate\", \"high\")))"
   ]
  },
  {
   "cell_type": "markdown",
   "metadata": {},
   "source": [
    "# Helper Functions"
   ]
  },
  {
   "cell_type": "markdown",
   "metadata": {},
   "source": [
    "**Objective**: The purpose of this section is to create functions to streamline survival analysis."
   ]
  },
  {
   "cell_type": "code",
   "execution_count": null,
   "metadata": {
    "vscode": {
     "languageId": "r"
    }
   },
   "outputs": [],
   "source": [
    "# Set plot size\n",
    "options(repr.plot.width=8, repr.plot.height=8)\n",
    "\n",
    "# Function to plot survival curves\n",
    "plot_surv <- function(df, main) {\n",
    "    \n",
    "    # Fit simple survival model\n",
    "    surv <- survfit(Surv(time, status) ~ group, data = df)\n",
    "\n",
    "    # Plot Kaplan-Meier curve\n",
    "    ggsurvplot(surv, data = df, risk.table = TRUE, fun = \"event\") +\n",
    "        labs(\n",
    "            title = main,\n",
    "            x = \"Years\",\n",
    "            y = \"Overall survival probability\"\n",
    "        )\n",
    "}"
   ]
  },
  {
   "cell_type": "code",
   "execution_count": null,
   "metadata": {
    "vscode": {
     "languageId": "r"
    }
   },
   "outputs": [],
   "source": [
    "# Function to create a data frame with HR, 95% CI, and p-values from Cox regressions\n",
    "get_cox <- function(df) {\n",
    "    \n",
    "    # If running this analysis in self-identified white subset, exclude population covariate,\n",
    "    # else, include population covariate\n",
    "    if(all(df$population == \"White\")) {\n",
    "        \n",
    "        # Run adjusted Cox regression model\n",
    "        surv_adj <- coxph(Surv(time, status) ~ group + index_age + sex_at_birth +  \n",
    "                        low_hdl + high_tg + high_bmi + smoking_status + htn_status + \n",
    "                        pd_status + gd_status, data = df)\n",
    "        \n",
    "    } else {\n",
    "        \n",
    "        # Run adjusted Cox regression model\n",
    "        surv_adj <- coxph(Surv(time, status) ~ group + index_age + sex_at_birth + population + \n",
    "                        low_hdl + high_tg + high_bmi + smoking_status + htn_status + \n",
    "                        pd_status + gd_status, data = df)\n",
    "        \n",
    "    }\n",
    "    \n",
    "    # Extract necessary outcomes from the model output\n",
    "    row_names <- names(coef(surv_adj))\n",
    "    hr <- round(exp(coef(surv_adj)), digits = 2)\n",
    "    lower <- round(exp(confint(surv_adj)[,1]), digits = 2)\n",
    "    upper <- round(exp(confint(surv_adj)[,2]), digits = 2)\n",
    "    p_val <- sprintf(\"%.2e\", coef(summary(surv_adj))[,\"Pr(>|z|)\"])\n",
    "    res_df <- data.frame(variables = row_names, hazard = paste0(hr, \" (95% CI \", lower, \"-\", upper, \" , P=\", p_val, \")\"))\n",
    "    \n",
    "    return(res_df)\n",
    "    \n",
    "}"
   ]
  },
  {
   "cell_type": "code",
   "execution_count": null,
   "metadata": {
    "vscode": {
     "languageId": "r"
    }
   },
   "outputs": [],
   "source": [
    "# Function to create a data frame with HR, 95% CI, and p-values from Cox regressions for statin type, intensity,\n",
    "# or lipophilicity\n",
    "get_cox_statin <- function(df, statin) {\n",
    "    \n",
    "    # If running this analysis in self-identified white subset, exclude population covariate,\n",
    "    # else, include population covariate\n",
    "    if(all(df$population == \"White\")) {\n",
    "        \n",
    "        formula <- as.formula(paste0(\"Surv(time, status) ~ \", statin, \" + index_age + sex_at_birth +\n",
    "                                    low_hdl + high_tg + high_bmi + smoking_status + htn_status + gd_status\"))\n",
    "        \n",
    "        # Run adjusted Cox regression model\n",
    "        surv_adj <- coxph(formula, data = df)\n",
    "        \n",
    "    } else {\n",
    "        \n",
    "        formula <- as.formula(paste0(\"Surv(time, status) ~ \", statin, \" + index_age + population + sex_at_birth +\n",
    "                                    low_hdl + high_tg + high_bmi + smoking_status + htn_status + gd_status\"))\n",
    "        \n",
    "        # Run adjusted Cox regression model\n",
    "        surv_adj <- coxph(formula, data = df)\n",
    "        \n",
    "    }\n",
    "    \n",
    "    # Extract necessary outcomes from the model output\n",
    "    row_names <- names(coef(surv_adj))\n",
    "    hr <- round(exp(coef(surv_adj)), digits = 2)\n",
    "    lower <- round(exp(confint(surv_adj)[,1]), digits = 2)\n",
    "    upper <- round(exp(confint(surv_adj)[,2]), digits = 2)\n",
    "    p_val <- sprintf(\"%.2e\", coef(summary(surv_adj))[,\"Pr(>|z|)\"])\n",
    "    res_df <- data.frame(variables = row_names, hazard = paste0(hr, \" (95% CI \", lower, \"-\", upper, \" , P=\", p_val, \")\"))\n",
    "    \n",
    "    # Create data frame with outcomes\n",
    "    return(res_df)\n",
    "    \n",
    "}"
   ]
  },
  {
   "cell_type": "code",
   "execution_count": null,
   "metadata": {
    "vscode": {
     "languageId": "r"
    }
   },
   "outputs": [],
   "source": [
    "# Function to plot survival curves stratified by statin type, intensity, or lipophilicity\n",
    "plot_surv_statin <- function(df, statin, main) {\n",
    "    \n",
    "    # Create formula\n",
    "    formula <- as.formula(paste0(\"Surv(time, status) ~ \", statin))\n",
    "    \n",
    "    # Fit model\n",
    "    surv <- survfit(formula, data = df)\n",
    "\n",
    "    # Plot Kaplan-Meier curve\n",
    "    ggsurvplot(surv, data = df, risk.table = TRUE, fun = \"event\") +\n",
    "        labs(\n",
    "            title = main,\n",
    "            x = \"Years\",\n",
    "            y = \"Overall survival probability\"\n",
    "        )\n",
    "}"
   ]
  },
  {
   "cell_type": "code",
   "execution_count": null,
   "metadata": {
    "vscode": {
     "languageId": "r"
    }
   },
   "outputs": [],
   "source": [
    "# Function to create a data frame with HR, 95% CI, and p-values from Cox regressions adjusted for baseline LDL-C\n",
    "get_cox_ldl_adj <- function(df, statin) {\n",
    "    \n",
    "    # If running this analysis in self-identified white subset, exclude population covariate,\n",
    "    # else, include population covariate\n",
    "    if(all(df$population == \"White\")) {\n",
    "        \n",
    "        formula <- as.formula(paste0(\"Surv(time, status) ~ \", statin, \" + first_ldl + index_age + sex_at_birth +\n",
    "                                    low_hdl + high_tg + high_bmi + smoking_status + htn_status + gd_status\"))\n",
    "        \n",
    "        # Run adjusted Cox regression model\n",
    "        surv_adj <- coxph(formula, data = df)\n",
    "        \n",
    "    } else {\n",
    "        \n",
    "        formula <- as.formula(paste0(\"Surv(time, status) ~ \", statin, \" + first_ldl + index_age + population + sex_at_birth +\n",
    "                                    low_hdl + high_tg + high_bmi + smoking_status + htn_status + gd_status\"))\n",
    "        \n",
    "        # Run adjusted Cox regression model\n",
    "        surv_adj <- coxph(formula, data = df)\n",
    "        \n",
    "    }\n",
    "    \n",
    "    # Extract necessary outcomes from the model output\n",
    "    row_names <- names(coef(surv_adj))\n",
    "    hr <- round(exp(coef(surv_adj)), digits = 2)\n",
    "    lower <- round(exp(confint(surv_adj)[,1]), digits = 2)\n",
    "    upper <- round(exp(confint(surv_adj)[,2]), digits = 2)\n",
    "    p_val <- sprintf(\"%.2e\", coef(summary(surv_adj))[,\"Pr(>|z|)\"])\n",
    "    res_df <- data.frame(variables = row_names, hazard = paste0(hr, \" (95% CI \", lower, \"-\", upper, \" , P=\", p_val, \")\"))\n",
    "    \n",
    "    return(res_df)\n",
    "    \n",
    "}"
   ]
  },
  {
   "cell_type": "code",
   "execution_count": null,
   "metadata": {
    "vscode": {
     "languageId": "r"
    }
   },
   "outputs": [],
   "source": [
    "# Function to create a data frame with HR, 95% CI, and p-values from linear regressions for every combination of LDL change variable\n",
    "ldl_change_reg <- function(df, cont, cat) {\n",
    "\n",
    "    # Initialize final data frame\n",
    "    final_df <- data.frame()\n",
    "    \n",
    "    for(ci in cont) {\n",
    "        \n",
    "        # Initialize category data frames\n",
    "        new_df <- data.frame(continuous = c(ci, ci, ci, ci))\n",
    "        \n",
    "        for(a in cat) {\n",
    "            \n",
    "            # Create formula\n",
    "            formula <- as.formula(paste0(ci, \" ~ \", a, \" + index_age + population + sex_at_birth +\n",
    "                                    low_hdl + high_tg + high_bmi + smoking_status + htn_status + gd_status\"))\n",
    "            # Run linear regression\n",
    "            model <- lm(formula, data = df)\n",
    "            m_summ <- summary(model)\n",
    "            \n",
    "            # Put change in LDL per category with 95% CI and P value into a data frame row\n",
    "            new_df$current_a <- c(ifelse(any(df[a] == 'increase'), paste0(\"increase\", \" \", round(coef(m_summ)[paste0(a,\"increase\"),1], digits = 2), \n",
    "                                                      \" (95% CI \", round(confint(model)[paste0(a,\"increase\"),1], digits = 2), \"-\", \n",
    "                                                      round(confint(model)[paste0(a,\"increase\"),2], digits = 2), \" , P=\",\n",
    "                                                      sprintf(\"%.2e\", coef(m_summ)[paste0(a,\"increase\"),'Pr(>|t|)']), \")\"), 'increase'),\n",
    "                                  ifelse(any(df[a] == 'low'), paste0(\"low\", \" \", round(coef(m_summ)[paste0(a,\"low\"),1], digits = 2), \n",
    "                                                      \" (95% CI \", round(confint(model)[paste0(a,\"low\"),1], digits = 2), \"-\", \n",
    "                                                      round(confint(model)[paste0(a,\"low\"),2], digits = 2), \" , P=\",\n",
    "                                                      sprintf(\"%.2e\", coef(m_summ)[paste0(a,\"low\"),'Pr(>|t|)']), \")\"), 'low'),\n",
    "                                  ifelse(any(df[a] == 'moderate'), paste0(\"moderate\", \" \", round(coef(m_summ)[paste0(a,\"moderate\"),1], digits = 2), \n",
    "                                                      \" (95% CI \", round(confint(model)[paste0(a,\"moderate\"),1], digits = 2), \"-\", \n",
    "                                                      round(confint(model)[paste0(a,\"moderate\"),2], digits = 2), \" , P=\",\n",
    "                                                      sprintf(\"%.2e\", coef(m_summ)[paste0(a,\"moderate\"),'Pr(>|t|)']), \")\"), 'moderate'),\n",
    "                                  ifelse(any(df[a] == 'high'), paste0(\"high\", \" \", round(coef(m_summ)[paste0(a,\"high\"),1], digits = 2), \n",
    "                                                      \" (95% CI \", round(confint(model)[paste0(a,\"high\"),1], digits = 2), \"-\", \n",
    "                                                      round(confint(model)[paste0(a,\"high\"),2], digits = 2), \" , P=\",\n",
    "                                                      sprintf(\"%.2e\", coef(m_summ)[paste0(a,\"high\"),'Pr(>|t|)']), \")\"), 'high'))\n",
    "\n",
    "            # Change column names to reflect current categorical variable\n",
    "            names(new_df)[names(new_df) == \"current_a\"] <- a\n",
    "        \n",
    "            # Bind rows together\n",
    "            \n",
    "        }\n",
    "        \n",
    "        final_df <- rbind(new_df, final_df)\n",
    "        \n",
    "    }\n",
    "    \n",
    "    return(final_df)\n",
    "} "
   ]
  },
  {
   "cell_type": "code",
   "execution_count": null,
   "metadata": {
    "vscode": {
     "languageId": "r"
    }
   },
   "outputs": [],
   "source": [
    "# Function to create a data frame with HR, 95% CI, and p-values from linear regressions for every combination of LDL change variable\n",
    "ldl_change_reg_surv <- function(df, cont, cat) {\n",
    "\n",
    "    # Initialize final data frame\n",
    "    final_df <- data.frame()\n",
    "    \n",
    "    for(ci in cont) {\n",
    "        \n",
    "        # Initialize category data frames\n",
    "        new_df <- data.frame(continuous = c(ci, ci, ci, ci))\n",
    "        \n",
    "        for(a in cat) {\n",
    "            \n",
    "            # Create formula\n",
    "            formula <- as.formula(paste0(\"Surv(time, status) ~ \", a, \" + index_age + population + sex_at_birth +\n",
    "                                    low_hdl + high_tg + high_bmi + smoking_status + htn_status + gd_status\"))\n",
    "            # Run linear regression\n",
    "            model <- coxph(formula, data = df)\n",
    "            m_summ <- summary(model)\n",
    "            \n",
    "            # Put change in LDL per category with 95% CI and P value into a data frame row\n",
    "            new_df$current_a <- c(ifelse(any(df[a] == 'increase'), paste0(\"increase\", \" \", round(exp(coef(m_summ)[paste0(a,\"increase\"),1]), digits = 2), \n",
    "                                                      \" (95% CI \", round(exp(confint(model)[paste0(a,\"increase\"),1]), digits = 2), \"-\", \n",
    "                                                      round(exp(confint(model)[paste0(a,\"increase\"),2]), digits = 2), \" , P=\",\n",
    "                                                      sprintf(\"%.2e\", coef(m_summ)[paste0(a,\"increase\"),'Pr(>|z|)']), \")\"), 'increase'),\n",
    "                                  ifelse(any(df[a] == 'low'), paste0(\"low\", \" \", round(exp(coef(m_summ)[paste0(a,\"low\"),1]), digits = 2), \n",
    "                                                      \" (95% CI \", round(exp(confint(model)[paste0(a,\"low\"),1]), digits = 2), \"-\", \n",
    "                                                      round(exp(confint(model)[paste0(a,\"low\"),2]), digits = 2), \" , P=\",\n",
    "                                                      sprintf(\"%.2e\", coef(m_summ)[paste0(a,\"low\"),'Pr(>|z|)']), \")\"), 'low'),\n",
    "                                  ifelse(any(df[a] == 'moderate'), paste0(\"moderate\", \" \", round(exp(coef(m_summ)[paste0(a,\"moderate\"),1]), digits = 2), \n",
    "                                                      \" (95% CI \", round(exp(confint(model)[paste0(a,\"moderate\"),1]), digits = 2), \"-\", \n",
    "                                                      round(exp(confint(model)[paste0(a,\"moderate\"),2]), digits = 2), \" , P=\",\n",
    "                                                      sprintf(\"%.2e\", coef(m_summ)[paste0(a,\"moderate\"),'Pr(>|z|)']), \")\"), 'moderate'),\n",
    "                                  ifelse(any(df[a] == 'high'), paste0(\"high\", \" \", round(exp(coef(m_summ)[paste0(a,\"high\"),1]), digits = 2), \n",
    "                                                      \" (95% CI \", round(exp(confint(model)[paste0(a,\"high\"),1]), digits = 2), \"-\", \n",
    "                                                      round(exp(confint(model)[paste0(a,\"high\"),2]), digits = 2), \" , P=\",\n",
    "                                                      sprintf(\"%.2e\", coef(m_summ)[paste0(a,\"high\"),'Pr(>|z|)']), \")\"), 'high'))\n",
    "\n",
    "            # Change column names to reflect current categorical variable\n",
    "            names(new_df)[names(new_df) == \"current_a\"] <- a\n",
    "        \n",
    "            # Bind rows together\n",
    "            \n",
    "        }\n",
    "        \n",
    "        final_df <- rbind(new_df, final_df)\n",
    "        \n",
    "    }\n",
    "    \n",
    "    return(final_df)\n",
    "} "
   ]
  },
  {
   "cell_type": "code",
   "execution_count": null,
   "metadata": {
    "vscode": {
     "languageId": "r"
    }
   },
   "outputs": [],
   "source": [
    "# Function to summarize change in LDL-C by group\n",
    "summarize_ldl <- function(df, var, ldl) {\n",
    "    \n",
    "    df %>%\n",
    "          group_by(.data[[var]]) %>%\n",
    "          filter(!is.na(.data[[ldl]])) %>%\n",
    "          summarize(label = ldl,\n",
    "                    count = n(),\n",
    "                    t2d = sum(t2d_status == \"Event\"),\n",
    "                    t2d_prop = round(sum(t2d_status == \"Event\") / n(), digits = 3) * 100,\n",
    "                    min = round(min(.data[[ldl]], na.rm = TRUE), digits = 3) * 100,\n",
    "                    median = round(median(.data[[ldl]], na.rm = TRUE), digits = 3) * 100,\n",
    "                    mean = round(mean(.data[[ldl]], na.rm = TRUE), digits = 3) * 100,\n",
    "                    max = round(max(.data[[ldl]], na.rm = TRUE), digits = 3) * 100\n",
    "                  ) %>%\n",
    "          arrange(.data[[var]])\n",
    "    \n",
    "}"
   ]
  },
  {
   "cell_type": "markdown",
   "metadata": {},
   "source": [
    "# ITT Subset"
   ]
  },
  {
   "cell_type": "markdown",
   "metadata": {},
   "source": [
    "**Objective**: The purpose of this section is to run survival analyses on the intention-to-treat (ITT) study population, along with statin type, intensity, and liphophilicity analyses."
   ]
  },
  {
   "cell_type": "markdown",
   "metadata": {},
   "source": [
    "## Preliminary survival analysis"
   ]
  },
  {
   "cell_type": "code",
   "execution_count": null,
   "metadata": {
    "vscode": {
     "languageId": "r"
    }
   },
   "outputs": [],
   "source": [
    "# Summarize median follow-up time for each subset\n",
    "itt_df %>% group_by(group) %>% summarize(median = median(time))\n",
    "ldl30_df %>% group_by(group) %>% summarize(median = median(time))\n",
    "per_protocol_df %>% group_by(group) %>% summarize(median = median(time))\n",
    "white_df %>% group_by(group) %>% summarize(median = median(time))"
   ]
  },
  {
   "cell_type": "code",
   "execution_count": null,
   "metadata": {
    "vscode": {
     "languageId": "r"
    }
   },
   "outputs": [],
   "source": [
    "# Run adjusted Cox regression model and plot Kaplan-Meier curves\n",
    "# Primary objective is to find the hazard of developing NOD in statin users when compared to non-users\n",
    "plot_surv(itt_df, \"Intention-to-Treat\")\n",
    "get_cox(itt_df)"
   ]
  },
  {
   "cell_type": "markdown",
   "metadata": {},
   "source": [
    "## Statin Type"
   ]
  },
  {
   "cell_type": "code",
   "execution_count": null,
   "metadata": {
    "scrolled": false,
    "vscode": {
     "languageId": "r"
    }
   },
   "outputs": [],
   "source": [
    "# Run adjusted Cox regression model and plot Kaplan-Meier curves\n",
    "# Primary objective is to find the hazard of developing NOD by statin type at the start when compared to non-users\n",
    "itt_df <- within(itt_df, statin_type_start <- relevel(as.factor(statin_type_start), ref = \"non-user\")) # Relevel statin_type to ensure non-users are the reference\n",
    "get_cox_statin(itt_df, \"statin_type_start\")"
   ]
  },
  {
   "cell_type": "code",
   "execution_count": null,
   "metadata": {
    "vscode": {
     "languageId": "r"
    }
   },
   "outputs": [],
   "source": [
    "# Run adjusted Cox regression model and plot Kaplan-Meier curves\n",
    "# Primary objective is to find the hazard of developing NOD by statin type at the end when compared to non-users\n",
    "itt_df <- within(itt_df, statin_type_end <- relevel(as.factor(statin_type_end), ref = \"non-user\")) # Relevel statin_type to ensure non-users are the reference\n",
    "get_cox_statin(itt_df, \"statin_type_end\")"
   ]
  },
  {
   "cell_type": "markdown",
   "metadata": {},
   "source": [
    "## Statin Intensity"
   ]
  },
  {
   "cell_type": "code",
   "execution_count": null,
   "metadata": {
    "vscode": {
     "languageId": "r"
    }
   },
   "outputs": [],
   "source": [
    "# Check how many users fall into each statin intensity category\n",
    "table(ldl_df$statin_intensity_start, useNA = 'always')\n",
    "table(ldl_df$statin_intensity_end, useNA = 'always')"
   ]
  },
  {
   "cell_type": "code",
   "execution_count": null,
   "metadata": {
    "vscode": {
     "languageId": "r"
    }
   },
   "outputs": [],
   "source": [
    "# Filter out missing statin intensities (some are missing due to missing dosages)\n",
    "statin_intensity_missing_start <- ldl_df %>% filter(is.na(statin_intensity_start))\n",
    "statin_intensity_missing_end <- ldl_df %>% filter(is.na(statin_intensity_end))\n",
    "\n",
    "# Maintain matching structure\n",
    "statin_intensity_start_df <- ldl_df %>% filter(!match_group %in% statin_intensity_missing_start$person_id)\n",
    "statin_intensity_end_df <- ldl_df %>% filter(!match_group %in% statin_intensity_missing_end$person_id)"
   ]
  },
  {
   "cell_type": "code",
   "execution_count": null,
   "metadata": {
    "vscode": {
     "languageId": "r"
    }
   },
   "outputs": [],
   "source": [
    "# Check statin intensity counts again\n",
    "table(statin_intensity_start_df$statin_intensity_start, useNA = 'always')\n",
    "table(statin_intensity_end_df$statin_intensity_end, useNA = 'always')"
   ]
  },
  {
   "cell_type": "code",
   "execution_count": null,
   "metadata": {
    "vscode": {
     "languageId": "r"
    }
   },
   "outputs": [],
   "source": [
    "# Run adjusted Cox regression model and plot Kaplan-Meier curves\n",
    "# Primary objective is to find the hazard of developing NOD by statin intensity when compared to non-users\n",
    "statin_intensity_start_df <- within(statin_intensity_start_df, statin_intensity_start <- relevel(as.factor(statin_intensity_start), ref = \"non-user\")) # Relevel to make sure non-user is the reference level\n",
    "statin_intensity_start_df$statin_intensity_start <- factor(statin_intensity_start_df$statin_intensity_start, levels = c('non-user', 'low', 'moderate', 'high'))\n",
    "get_cox_statin(statin_intensity_start_df, \"statin_intensity_start\")"
   ]
  },
  {
   "cell_type": "code",
   "execution_count": null,
   "metadata": {
    "vscode": {
     "languageId": "r"
    }
   },
   "outputs": [],
   "source": [
    "# Run adjusted Cox regression model and plot Kaplan-Meier curves\n",
    "# Primary objective is to find the hazard of developing NOD by statin intensity when compared to non-users\n",
    "statin_intensity_end_df$statin_intensity_end <- factor(statin_intensity_end_df$statin_intensity_end, levels = c('non-user', 'low', 'moderate', 'high'))\n",
    "statin_intensity_end_df <- within(statin_intensity_end_df, statin_intensity_end <- relevel(as.factor(statin_intensity_end), ref = \"non-user\")) # Relevel to make sure non-user is the reference level\n",
    "get_cox_statin(statin_intensity_end_df, \"statin_intensity_end\")"
   ]
  },
  {
   "cell_type": "code",
   "execution_count": null,
   "metadata": {
    "vscode": {
     "languageId": "r"
    }
   },
   "outputs": [],
   "source": [
    "# Summarize LDL-C change measures by starting statin intensity\n",
    "ldl_summ_start <- data.frame()\n",
    "for (i in c('max_change_ldl', 'max_decrease_ldl', 'change_ldl_last', \n",
    "                 'change_ldl_last_statin', 'change_ldl_first_post')) {\n",
    "    \n",
    "    ldl_summ_start_new <- summarize_ldl(statin_intensity_start_df, 'statin_intensity_start', i)\n",
    "    ldl_summ_start<- rbind(ldl_summ_start, ldl_summ_start_new)\n",
    "\n",
    "}\n",
    "\n",
    "ldl_summ_start"
   ]
  },
  {
   "cell_type": "code",
   "execution_count": null,
   "metadata": {
    "vscode": {
     "languageId": "r"
    }
   },
   "outputs": [],
   "source": [
    "# Summarize LDL-C change measures by ending statin intensity\n",
    "ldl_summ_end <- data.frame()\n",
    "for (i in c('max_change_ldl', 'max_decrease_ldl', 'change_ldl_last', \n",
    "                 'change_ldl_last_statin', 'change_ldl_first_post')) {\n",
    "    \n",
    "    ldl_summ_end_new <- summarize_ldl(statin_intensity_end_df, 'statin_intensity_end', i)\n",
    "    ldl_summ_end <- rbind(ldl_summ_end, ldl_summ_end_new)\n",
    "\n",
    "}\n",
    "\n",
    "ldl_summ_end"
   ]
  },
  {
   "cell_type": "code",
   "execution_count": null,
   "metadata": {
    "vscode": {
     "languageId": "r"
    }
   },
   "outputs": [],
   "source": [
    "# Relevel to make sure non-user is the reference level\n",
    "ldl_df <- within(ldl_df, statin_intensity_start <- relevel(as.factor(statin_intensity_start), ref = \"non-user\"))\n",
    "ldl_df <- within(ldl_df, statin_intensity_end <- relevel(as.factor(statin_intensity_end), ref = \"non-user\")) \n",
    "\n",
    "# Predict change in LDL-C by statin intensity\n",
    "ldl_change_reg(ldl_df, \n",
    "               c('max_change_ldl', 'max_decrease_ldl', 'change_ldl_last', \n",
    "                 'change_ldl_last_statin', 'change_ldl_first_post'), \n",
    "               c('statin_intensity_start', 'statin_intensity_end'))"
   ]
  },
  {
   "cell_type": "markdown",
   "metadata": {},
   "source": [
    "## Statin Lipophilicity"
   ]
  },
  {
   "cell_type": "code",
   "execution_count": null,
   "metadata": {
    "vscode": {
     "languageId": "r"
    }
   },
   "outputs": [],
   "source": [
    "# Run adjusted Cox regression model and plot Kaplan-Meier curves\n",
    "# Primary objective is to find the hazard of developing NOD by statin intensity when compared to non-users\n",
    "itt_df <- within(itt_df, statin_lipo_start <- relevel(as.factor(statin_lipo_start), ref = \"non-user\")) # Relevel to make sure non-user is the reference level\n",
    "get_cox_statin(itt_df, \"statin_lipo_start\")"
   ]
  },
  {
   "cell_type": "code",
   "execution_count": null,
   "metadata": {
    "vscode": {
     "languageId": "r"
    }
   },
   "outputs": [],
   "source": [
    "# Run adjusted Cox regression model and plot Kaplan-Meier curves\n",
    "# Primary objective is to find the hazard of developing NOD by statin intensity when compared to non-users\n",
    "itt_df <- within(itt_df, statin_lipo_end <- relevel(as.factor(statin_lipo_end), ref = \"non-user\")) # Relevel to make sure non-user is the reference level\n",
    "get_cox_statin(itt_df, \"statin_lipo_end\")"
   ]
  },
  {
   "cell_type": "markdown",
   "metadata": {},
   "source": [
    "# LDL Analysis"
   ]
  },
  {
   "cell_type": "markdown",
   "metadata": {},
   "source": [
    "**Objective**: The purpose of this section is to analyze the associations of baseline LDL-C and change in LDL-C with NOD."
   ]
  },
  {
   "cell_type": "markdown",
   "metadata": {},
   "source": [
    "## ≥30% Decrease in LDL-C Subset"
   ]
  },
  {
   "cell_type": "code",
   "execution_count": null,
   "metadata": {
    "scrolled": false,
    "vscode": {
     "languageId": "r"
    }
   },
   "outputs": [],
   "source": [
    "# Run adjusted Cox regression model and plot Kaplan-Meier curves\n",
    "# Primary objective is to find the hazard of developing NOD by treatment group in the ≥30% decrease in LDL-C subset\n",
    "plot_surv(ldl30_df, \"≥30% Decrease in LDL-C\")\n",
    "get_cox(ldl30_df)"
   ]
  },
  {
   "cell_type": "markdown",
   "metadata": {},
   "source": [
    "## Statin Intensity subsets based on LDL-C"
   ]
  },
  {
   "cell_type": "code",
   "execution_count": null,
   "metadata": {
    "scrolled": true,
    "vscode": {
     "languageId": "r"
    }
   },
   "outputs": [],
   "source": [
    "# Sanity check to make sure LDL-lowering intensity groups follow expected trends\n",
    "ldl_change_reg(ldl_df, \n",
    "               c('max_change_ldl', 'max_decrease_ldl', 'change_ldl_last', \n",
    "                 'change_ldl_last_statin', 'change_ldl_first_post'), \n",
    "               c('max_change_group', 'max_dec_group', 'last_change_group', \n",
    "                 'last_statin_change_group', 'first_post_change_group'))"
   ]
  },
  {
   "cell_type": "code",
   "execution_count": null,
   "metadata": {
    "scrolled": false,
    "vscode": {
     "languageId": "r"
    }
   },
   "outputs": [],
   "source": [
    "for(l in c('max_change_ldl', 'max_decrease_ldl', 'change_ldl_last', \n",
    "                 'change_ldl_last_statin', 'change_ldl_first_post')) {\n",
    "    \n",
    "    for(i in c('max_change_group', 'max_dec_group', 'last_change_group', \n",
    "            'last_statin_change_group', 'first_post_change_group')) {\n",
    "    \n",
    "    print(summarize_ldl(i, l))\n",
    "    \n",
    "    }\n",
    "    \n",
    "}"
   ]
  },
  {
   "cell_type": "code",
   "execution_count": null,
   "metadata": {
    "vscode": {
     "languageId": "r"
    }
   },
   "outputs": [],
   "source": [
    "ldl_change_reg_surv(ldl_df, \n",
    "               c('status'), \n",
    "               c('max_change_group', 'max_dec_group', 'last_change_group', \n",
    "                 'last_statin_change_group', 'first_post_change_group'))"
   ]
  },
  {
   "cell_type": "markdown",
   "metadata": {},
   "source": [
    "### Baseline LDL-C Analysis"
   ]
  },
  {
   "cell_type": "code",
   "execution_count": null,
   "metadata": {
    "scrolled": false,
    "vscode": {
     "languageId": "r"
    }
   },
   "outputs": [],
   "source": [
    "# Run adjusted Cox regression model\n",
    "# Primary objective is to find the hazard of developing NOD in statin users based on baseline LDL-C\n",
    "get_cox_statin(ldl_df %>% filter(group == 'user'), \"baseline_ldl\")"
   ]
  },
  {
   "cell_type": "code",
   "execution_count": null,
   "metadata": {
    "vscode": {
     "languageId": "r"
    }
   },
   "outputs": [],
   "source": [
    "# Using linear functions to determine the effect of a 10mg/dL increase in LDL-C\n",
    "\n",
    "# Run adjusted Cox regression model\n",
    "model <- coxph(Surv(time, status) ~ baseline_ldl + index_age + sex_at_birth + population + \n",
    "                        low_hdl + high_tg + high_bmi + smoking_status + htn_status + \n",
    "                        pd_status + gd_status, data = ldl_df %>% filter(group == 'user'))\n",
    "\n",
    "# Use generalized linear hypothesis test to find the association with a 10mg/dL increase in baseline LDL-C\n",
    "base_sum <- summary(glht(model, linfct = c(\"10 * baseline_ldl = 0\")))\n",
    "base_sum\n",
    "\n",
    "# Print estimates\n",
    "df <- as_tibble(confint(base_sum)[['confint']])\n",
    "df\n",
    "\n",
    "# Exponentiate estimates to get hazard ratios\n",
    "df %>% mutate(Estimate = exp(Estimate),\n",
    "                        lwr = exp(lwr),\n",
    "                        upr = exp(upr))"
   ]
  },
  {
   "cell_type": "markdown",
   "metadata": {},
   "source": [
    "### Max Change in LDL-C Analysis"
   ]
  },
  {
   "cell_type": "code",
   "execution_count": null,
   "metadata": {
    "scrolled": false,
    "vscode": {
     "languageId": "r"
    }
   },
   "outputs": [],
   "source": [
    "# Run adjusted Cox regression model\n",
    "# Primary objective is to find the hazard of developing NOD in statin users based on change in LDL-C\n",
    "get_cox_statin(ldl_df %>% filter(group == 'user'), \"max_change_ldl\")"
   ]
  },
  {
   "cell_type": "code",
   "execution_count": null,
   "metadata": {
    "vscode": {
     "languageId": "r"
    }
   },
   "outputs": [],
   "source": [
    "# Using linear functions to determine the effect of a 10% decrease in the change in LDL-C\n",
    "\n",
    "# Run adjusted Cox regression model\n",
    "model <- coxph(Surv(time, status) ~ max_change_ldl + index_age + sex_at_birth + population + \n",
    "                        low_hdl + high_tg + high_bmi + smoking_status + htn_status + \n",
    "                        pd_status + gd_status, data = ldl_df %>% filter(group == 'user'))\n",
    "\n",
    "# Use generalized linear hypothesis test to find the association with a 10mg/dL increase in baseline LDL-C\n",
    "base_sum <- summary(glht(model, linfct = c(\"-0.1 * max_change_ldl = 0\")))\n",
    "base_sum\n",
    "\n",
    "# Print estimates\n",
    "df <- as_tibble(confint(base_sum)[['confint']])\n",
    "df\n",
    "\n",
    "# Exponentiate estimates to get hazard ratios\n",
    "df %>% mutate(Estimate = exp(Estimate),\n",
    "                        lwr = exp(lwr),\n",
    "                        upr = exp(upr))"
   ]
  },
  {
   "cell_type": "markdown",
   "metadata": {},
   "source": [
    "### Max Decrease in LDL-C"
   ]
  },
  {
   "cell_type": "code",
   "execution_count": null,
   "metadata": {
    "vscode": {
     "languageId": "r"
    }
   },
   "outputs": [],
   "source": [
    "# Run adjusted Cox regression model\n",
    "# Primary objective is to find the hazard of developing NOD in statin users based on a decrease in LDL-C\n",
    "get_cox_statin(ldl_df %>% filter(group == 'user'), \"max_decrease_ldl\")"
   ]
  },
  {
   "cell_type": "code",
   "execution_count": null,
   "metadata": {
    "vscode": {
     "languageId": "r"
    }
   },
   "outputs": [],
   "source": [
    "# Using linear functions to determine the effect of a 10% decrease in the change in LDL-C\n",
    "\n",
    "# Run adjusted Cox regression model\n",
    "model <- coxph(Surv(time, status) ~ max_decrease_ldl + index_age + sex_at_birth + population + \n",
    "                        low_hdl + high_tg + high_bmi + smoking_status + htn_status + \n",
    "                        pd_status + gd_status, data = ldl_df %>% filter(group == 'user'))\n",
    "\n",
    "# Use generalized linear hypothesis test to find the association with a 10mg/dL increase in baseline LDL-C\n",
    "base_sum <- summary(glht(model, linfct = c(\"-0.1 * max_decrease_ldl = 0\")))\n",
    "base_sum\n",
    "\n",
    "# Print estimates\n",
    "df <- as_tibble(confint(base_sum)[['confint']])\n",
    "df\n",
    "\n",
    "# Exponentiate estimates to get hazard ratios\n",
    "df %>% mutate(Estimate = exp(Estimate),\n",
    "                        lwr = exp(lwr),\n",
    "                        upr = exp(upr))"
   ]
  },
  {
   "cell_type": "markdown",
   "metadata": {},
   "source": [
    "# Per Protocol Subset"
   ]
  },
  {
   "cell_type": "markdown",
   "metadata": {},
   "source": [
    "**Objective**: The purpose of this section is to run survival analyses on the per protocol subset."
   ]
  },
  {
   "cell_type": "code",
   "execution_count": null,
   "metadata": {
    "vscode": {
     "languageId": "r"
    }
   },
   "outputs": [],
   "source": [
    "# Run adjusted Cox regression model and plot Kaplan-Meier curves\n",
    "# Primary objective is to find the hazard of developing NOD in statin users when compared to non-users\n",
    "plot_surv(per_protocol_df, \"Per Protocol\")\n",
    "get_cox(per_protocol_df)"
   ]
  },
  {
   "cell_type": "markdown",
   "metadata": {},
   "source": [
    "# Self-Identified White Subset"
   ]
  },
  {
   "cell_type": "markdown",
   "metadata": {},
   "source": [
    "**Objective**: The purpose of this section is to run survival analyses on the self-identified white subset."
   ]
  },
  {
   "cell_type": "code",
   "execution_count": null,
   "metadata": {
    "vscode": {
     "languageId": "r"
    }
   },
   "outputs": [],
   "source": [
    "# Run adjusted Cox regression model and plot Kaplan-Meier curves\n",
    "# Primary objective is to find the hazard of developing NOD in statin users when compared to non-users\n",
    "plot_surv(white_df, \"White\")\n",
    "get_cox(white_df)"
   ]
  }
 ],
 "metadata": {
  "kernelspec": {
   "display_name": "R",
   "language": "R",
   "name": "ir"
  },
  "language_info": {
   "codemirror_mode": "r",
   "file_extension": ".r",
   "mimetype": "text/x-r-source",
   "name": "R",
   "pygments_lexer": "r",
   "version": "4.5.0"
  },
  "toc": {
   "base_numbering": 1,
   "nav_menu": {},
   "number_sections": true,
   "sideBar": true,
   "skip_h1_title": false,
   "title_cell": "Table of Contents",
   "title_sidebar": "Contents",
   "toc_cell": false,
   "toc_position": {},
   "toc_section_display": true,
   "toc_window_display": false
  }
 },
 "nbformat": 4,
 "nbformat_minor": 2
}
